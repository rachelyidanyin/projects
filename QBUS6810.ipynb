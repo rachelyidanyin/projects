{
  "nbformat": 4,
  "nbformat_minor": 0,
  "metadata": {
    "colab": {
      "name": "QBUS6810.ipynb",
      "provenance": []
    },
    "kernelspec": {
      "name": "python3",
      "display_name": "Python 3"
    },
    "language_info": {
      "name": "python"
    }
  },
  "cells": [
    {
      "cell_type": "markdown",
      "metadata": {
        "id": "eKpEED06nEb-"
      },
      "source": [
        "# Data preprocessing\n"
      ]
    },
    {
      "cell_type": "markdown",
      "metadata": {
        "id": "J0am8X_6rG9P"
      },
      "source": [
        "## Data loading"
      ]
    },
    {
      "cell_type": "code",
      "metadata": {
        "id": "29IkBGOFnofu"
      },
      "source": [
        "import pandas as pd\n",
        "import numpy as np\n",
        "from sklearn.model_selection import train_test_split"
      ],
      "execution_count": null,
      "outputs": []
    },
    {
      "cell_type": "code",
      "metadata": {
        "colab": {
          "base_uri": "https://localhost:8080/"
        },
        "id": "eDV52D78fokN",
        "outputId": "d5e7beb2-75db-480c-b914-29a18a1da855"
      },
      "source": [
        "!gdown --id 1xkS3QLAFrzTfJqc6qs24k9ey6sk3aSNe"
      ],
      "execution_count": null,
      "outputs": [
        {
          "output_type": "stream",
          "name": "stdout",
          "text": [
            "Downloading...\n",
            "From: https://drive.google.com/uc?id=1xkS3QLAFrzTfJqc6qs24k9ey6sk3aSNe\n",
            "To: /content/bank_train.csv\n",
            "\r  0% 0.00/2.33M [00:00<?, ?B/s]\r100% 2.33M/2.33M [00:00<00:00, 73.1MB/s]\n"
          ]
        }
      ]
    },
    {
      "cell_type": "code",
      "metadata": {
        "id": "12ZOzCohnj4j"
      },
      "source": [
        "bankdata = pd.read_csv('bank_train.csv')"
      ],
      "execution_count": null,
      "outputs": []
    },
    {
      "cell_type": "markdown",
      "metadata": {
        "id": "CwCyIMRZrMkd"
      },
      "source": [
        "## Data exploring"
      ]
    },
    {
      "cell_type": "code",
      "metadata": {
        "colab": {
          "base_uri": "https://localhost:8080/",
          "height": 224
        },
        "id": "5LrITBkTnyjV",
        "outputId": "a514357d-1f4f-444d-e401-e87171725ddf"
      },
      "source": [
        "bankdata.head()"
      ],
      "execution_count": null,
      "outputs": [
        {
          "output_type": "execute_result",
          "data": {
            "text/html": [
              "<div>\n",
              "<style scoped>\n",
              "    .dataframe tbody tr th:only-of-type {\n",
              "        vertical-align: middle;\n",
              "    }\n",
              "\n",
              "    .dataframe tbody tr th {\n",
              "        vertical-align: top;\n",
              "    }\n",
              "\n",
              "    .dataframe thead th {\n",
              "        text-align: right;\n",
              "    }\n",
              "</style>\n",
              "<table border=\"1\" class=\"dataframe\">\n",
              "  <thead>\n",
              "    <tr style=\"text-align: right;\">\n",
              "      <th></th>\n",
              "      <th>age</th>\n",
              "      <th>job</th>\n",
              "      <th>marital</th>\n",
              "      <th>education</th>\n",
              "      <th>default</th>\n",
              "      <th>balance</th>\n",
              "      <th>housing</th>\n",
              "      <th>loan</th>\n",
              "      <th>contact</th>\n",
              "      <th>day</th>\n",
              "      <th>month</th>\n",
              "      <th>campaign</th>\n",
              "      <th>pdays</th>\n",
              "      <th>previous</th>\n",
              "      <th>poutcome</th>\n",
              "      <th>subscribed</th>\n",
              "    </tr>\n",
              "  </thead>\n",
              "  <tbody>\n",
              "    <tr>\n",
              "      <th>0</th>\n",
              "      <td>29</td>\n",
              "      <td>admin.</td>\n",
              "      <td>married</td>\n",
              "      <td>secondary</td>\n",
              "      <td>no</td>\n",
              "      <td>1489</td>\n",
              "      <td>yes</td>\n",
              "      <td>no</td>\n",
              "      <td>cellular</td>\n",
              "      <td>20</td>\n",
              "      <td>apr</td>\n",
              "      <td>1</td>\n",
              "      <td>-1</td>\n",
              "      <td>0</td>\n",
              "      <td>unknown</td>\n",
              "      <td>no</td>\n",
              "    </tr>\n",
              "    <tr>\n",
              "      <th>1</th>\n",
              "      <td>33</td>\n",
              "      <td>admin.</td>\n",
              "      <td>single</td>\n",
              "      <td>tertiary</td>\n",
              "      <td>no</td>\n",
              "      <td>3379</td>\n",
              "      <td>no</td>\n",
              "      <td>no</td>\n",
              "      <td>cellular</td>\n",
              "      <td>20</td>\n",
              "      <td>nov</td>\n",
              "      <td>3</td>\n",
              "      <td>-1</td>\n",
              "      <td>0</td>\n",
              "      <td>unknown</td>\n",
              "      <td>no</td>\n",
              "    </tr>\n",
              "    <tr>\n",
              "      <th>2</th>\n",
              "      <td>30</td>\n",
              "      <td>management</td>\n",
              "      <td>married</td>\n",
              "      <td>tertiary</td>\n",
              "      <td>no</td>\n",
              "      <td>3134</td>\n",
              "      <td>yes</td>\n",
              "      <td>no</td>\n",
              "      <td>cellular</td>\n",
              "      <td>17</td>\n",
              "      <td>jul</td>\n",
              "      <td>1</td>\n",
              "      <td>-1</td>\n",
              "      <td>0</td>\n",
              "      <td>unknown</td>\n",
              "      <td>no</td>\n",
              "    </tr>\n",
              "    <tr>\n",
              "      <th>3</th>\n",
              "      <td>33</td>\n",
              "      <td>admin.</td>\n",
              "      <td>divorced</td>\n",
              "      <td>secondary</td>\n",
              "      <td>no</td>\n",
              "      <td>294</td>\n",
              "      <td>yes</td>\n",
              "      <td>no</td>\n",
              "      <td>cellular</td>\n",
              "      <td>8</td>\n",
              "      <td>may</td>\n",
              "      <td>1</td>\n",
              "      <td>-1</td>\n",
              "      <td>0</td>\n",
              "      <td>unknown</td>\n",
              "      <td>yes</td>\n",
              "    </tr>\n",
              "    <tr>\n",
              "      <th>4</th>\n",
              "      <td>42</td>\n",
              "      <td>technician</td>\n",
              "      <td>married</td>\n",
              "      <td>tertiary</td>\n",
              "      <td>no</td>\n",
              "      <td>644</td>\n",
              "      <td>yes</td>\n",
              "      <td>no</td>\n",
              "      <td>unknown</td>\n",
              "      <td>7</td>\n",
              "      <td>may</td>\n",
              "      <td>1</td>\n",
              "      <td>-1</td>\n",
              "      <td>0</td>\n",
              "      <td>unknown</td>\n",
              "      <td>no</td>\n",
              "    </tr>\n",
              "  </tbody>\n",
              "</table>\n",
              "</div>"
            ],
            "text/plain": [
              "   age         job   marital  education  ... pdays  previous poutcome subscribed\n",
              "0   29      admin.   married  secondary  ...    -1         0  unknown         no\n",
              "1   33      admin.    single   tertiary  ...    -1         0  unknown         no\n",
              "2   30  management   married   tertiary  ...    -1         0  unknown         no\n",
              "3   33      admin.  divorced  secondary  ...    -1         0  unknown        yes\n",
              "4   42  technician   married   tertiary  ...    -1         0  unknown         no\n",
              "\n",
              "[5 rows x 16 columns]"
            ]
          },
          "metadata": {},
          "execution_count": 23
        }
      ]
    },
    {
      "cell_type": "code",
      "metadata": {
        "colab": {
          "base_uri": "https://localhost:8080/"
        },
        "id": "P0mK5AXLqPuR",
        "outputId": "487eb0e5-2a65-404c-9abd-f72b432a6b1a"
      },
      "source": [
        "bankdata.dtypes"
      ],
      "execution_count": null,
      "outputs": [
        {
          "output_type": "execute_result",
          "data": {
            "text/plain": [
              "age            int64\n",
              "job           object\n",
              "marital       object\n",
              "education     object\n",
              "default       object\n",
              "balance        int64\n",
              "housing       object\n",
              "loan          object\n",
              "contact       object\n",
              "day            int64\n",
              "month         object\n",
              "campaign       int64\n",
              "pdays          int64\n",
              "previous       int64\n",
              "poutcome      object\n",
              "subscribed    object\n",
              "dtype: object"
            ]
          },
          "metadata": {},
          "execution_count": 24
        }
      ]
    },
    {
      "cell_type": "code",
      "metadata": {
        "colab": {
          "base_uri": "https://localhost:8080/"
        },
        "id": "TYomU6IOqlJS",
        "outputId": "b010922e-b359-4247-9f57-e86cddcf3456"
      },
      "source": [
        "bankdata.info()"
      ],
      "execution_count": null,
      "outputs": [
        {
          "output_type": "stream",
          "name": "stdout",
          "text": [
            "<class 'pandas.core.frame.DataFrame'>\n",
            "RangeIndex: 29387 entries, 0 to 29386\n",
            "Data columns (total 16 columns):\n",
            " #   Column      Non-Null Count  Dtype \n",
            "---  ------      --------------  ----- \n",
            " 0   age         29387 non-null  int64 \n",
            " 1   job         29387 non-null  object\n",
            " 2   marital     29387 non-null  object\n",
            " 3   education   29387 non-null  object\n",
            " 4   default     29387 non-null  object\n",
            " 5   balance     29387 non-null  int64 \n",
            " 6   housing     29387 non-null  object\n",
            " 7   loan        29387 non-null  object\n",
            " 8   contact     29387 non-null  object\n",
            " 9   day         29387 non-null  int64 \n",
            " 10  month       29387 non-null  object\n",
            " 11  campaign    29387 non-null  int64 \n",
            " 12  pdays       29387 non-null  int64 \n",
            " 13  previous    29387 non-null  int64 \n",
            " 14  poutcome    29387 non-null  object\n",
            " 15  subscribed  29387 non-null  object\n",
            "dtypes: int64(6), object(10)\n",
            "memory usage: 3.6+ MB\n"
          ]
        }
      ]
    },
    {
      "cell_type": "code",
      "metadata": {
        "id": "Hm8qfHlLn9SE"
      },
      "source": [
        "df_nunique = {var: pd.DataFrame(bankdata[var].value_counts()) \n",
        "              for var in {'job', 'marital', 'education', 'default', 'housing', 'loan', 'contact',\n",
        "       'month', 'poutcome', 'subscribed'}}\n"
      ],
      "execution_count": null,
      "outputs": []
    },
    {
      "cell_type": "code",
      "metadata": {
        "colab": {
          "base_uri": "https://localhost:8080/",
          "height": 464
        },
        "id": "ucfJubyto6-t",
        "outputId": "642d321a-dd58-4e18-ada0-4145ceb0ba5a"
      },
      "source": [
        "from IPython.core.display import HTML\n",
        "\n",
        "def multi_table(table_list):\n",
        "    ''' Acceps a list of IpyTable objects and returns a table which contains each IpyTable in a cell\n",
        "    '''\n",
        "    return HTML(\n",
        "        '<table><tr style=\"background-color:white;\">' + \n",
        "        ''.join(['<td>' + table._repr_html_() + '</td>' for table in table_list]) +\n",
        "        '</tr></table>')\n",
        "\n",
        "multi_table([df_nunique['job'], df_nunique['marital'],df_nunique['education']\n",
        "            ,df_nunique['default'],df_nunique['housing'],df_nunique['loan'],df_nunique['contact'],df_nunique['month'],\n",
        "             df_nunique['poutcome'],df_nunique['subscribed']])"
      ],
      "execution_count": null,
      "outputs": [
        {
          "output_type": "execute_result",
          "data": {
            "text/html": [
              "<table><tr style=\"background-color:white;\"><td><div>\n",
              "<style scoped>\n",
              "    .dataframe tbody tr th:only-of-type {\n",
              "        vertical-align: middle;\n",
              "    }\n",
              "\n",
              "    .dataframe tbody tr th {\n",
              "        vertical-align: top;\n",
              "    }\n",
              "\n",
              "    .dataframe thead th {\n",
              "        text-align: right;\n",
              "    }\n",
              "</style>\n",
              "<table border=\"1\" class=\"dataframe\">\n",
              "  <thead>\n",
              "    <tr style=\"text-align: right;\">\n",
              "      <th></th>\n",
              "      <th>job</th>\n",
              "    </tr>\n",
              "  </thead>\n",
              "  <tbody>\n",
              "    <tr>\n",
              "      <th>blue-collar</th>\n",
              "      <td>6342</td>\n",
              "    </tr>\n",
              "    <tr>\n",
              "      <th>management</th>\n",
              "      <td>6104</td>\n",
              "    </tr>\n",
              "    <tr>\n",
              "      <th>technician</th>\n",
              "      <td>4953</td>\n",
              "    </tr>\n",
              "    <tr>\n",
              "      <th>admin.</th>\n",
              "      <td>3392</td>\n",
              "    </tr>\n",
              "    <tr>\n",
              "      <th>services</th>\n",
              "      <td>2702</td>\n",
              "    </tr>\n",
              "    <tr>\n",
              "      <th>retired</th>\n",
              "      <td>1487</td>\n",
              "    </tr>\n",
              "    <tr>\n",
              "      <th>self-employed</th>\n",
              "      <td>1013</td>\n",
              "    </tr>\n",
              "    <tr>\n",
              "      <th>entrepreneur</th>\n",
              "      <td>953</td>\n",
              "    </tr>\n",
              "    <tr>\n",
              "      <th>unemployed</th>\n",
              "      <td>836</td>\n",
              "    </tr>\n",
              "    <tr>\n",
              "      <th>housemaid</th>\n",
              "      <td>811</td>\n",
              "    </tr>\n",
              "    <tr>\n",
              "      <th>student</th>\n",
              "      <td>605</td>\n",
              "    </tr>\n",
              "    <tr>\n",
              "      <th>unknown</th>\n",
              "      <td>189</td>\n",
              "    </tr>\n",
              "  </tbody>\n",
              "</table>\n",
              "</div></td><td><div>\n",
              "<style scoped>\n",
              "    .dataframe tbody tr th:only-of-type {\n",
              "        vertical-align: middle;\n",
              "    }\n",
              "\n",
              "    .dataframe tbody tr th {\n",
              "        vertical-align: top;\n",
              "    }\n",
              "\n",
              "    .dataframe thead th {\n",
              "        text-align: right;\n",
              "    }\n",
              "</style>\n",
              "<table border=\"1\" class=\"dataframe\">\n",
              "  <thead>\n",
              "    <tr style=\"text-align: right;\">\n",
              "      <th></th>\n",
              "      <th>marital</th>\n",
              "    </tr>\n",
              "  </thead>\n",
              "  <tbody>\n",
              "    <tr>\n",
              "      <th>married</th>\n",
              "      <td>17574</td>\n",
              "    </tr>\n",
              "    <tr>\n",
              "      <th>single</th>\n",
              "      <td>8394</td>\n",
              "    </tr>\n",
              "    <tr>\n",
              "      <th>divorced</th>\n",
              "      <td>3419</td>\n",
              "    </tr>\n",
              "  </tbody>\n",
              "</table>\n",
              "</div></td><td><div>\n",
              "<style scoped>\n",
              "    .dataframe tbody tr th:only-of-type {\n",
              "        vertical-align: middle;\n",
              "    }\n",
              "\n",
              "    .dataframe tbody tr th {\n",
              "        vertical-align: top;\n",
              "    }\n",
              "\n",
              "    .dataframe thead th {\n",
              "        text-align: right;\n",
              "    }\n",
              "</style>\n",
              "<table border=\"1\" class=\"dataframe\">\n",
              "  <thead>\n",
              "    <tr style=\"text-align: right;\">\n",
              "      <th></th>\n",
              "      <th>education</th>\n",
              "    </tr>\n",
              "  </thead>\n",
              "  <tbody>\n",
              "    <tr>\n",
              "      <th>secondary</th>\n",
              "      <td>15103</td>\n",
              "    </tr>\n",
              "    <tr>\n",
              "      <th>tertiary</th>\n",
              "      <td>8639</td>\n",
              "    </tr>\n",
              "    <tr>\n",
              "      <th>primary</th>\n",
              "      <td>4456</td>\n",
              "    </tr>\n",
              "    <tr>\n",
              "      <th>unknown</th>\n",
              "      <td>1189</td>\n",
              "    </tr>\n",
              "  </tbody>\n",
              "</table>\n",
              "</div></td><td><div>\n",
              "<style scoped>\n",
              "    .dataframe tbody tr th:only-of-type {\n",
              "        vertical-align: middle;\n",
              "    }\n",
              "\n",
              "    .dataframe tbody tr th {\n",
              "        vertical-align: top;\n",
              "    }\n",
              "\n",
              "    .dataframe thead th {\n",
              "        text-align: right;\n",
              "    }\n",
              "</style>\n",
              "<table border=\"1\" class=\"dataframe\">\n",
              "  <thead>\n",
              "    <tr style=\"text-align: right;\">\n",
              "      <th></th>\n",
              "      <th>default</th>\n",
              "    </tr>\n",
              "  </thead>\n",
              "  <tbody>\n",
              "    <tr>\n",
              "      <th>no</th>\n",
              "      <td>28868</td>\n",
              "    </tr>\n",
              "    <tr>\n",
              "      <th>yes</th>\n",
              "      <td>519</td>\n",
              "    </tr>\n",
              "  </tbody>\n",
              "</table>\n",
              "</div></td><td><div>\n",
              "<style scoped>\n",
              "    .dataframe tbody tr th:only-of-type {\n",
              "        vertical-align: middle;\n",
              "    }\n",
              "\n",
              "    .dataframe tbody tr th {\n",
              "        vertical-align: top;\n",
              "    }\n",
              "\n",
              "    .dataframe thead th {\n",
              "        text-align: right;\n",
              "    }\n",
              "</style>\n",
              "<table border=\"1\" class=\"dataframe\">\n",
              "  <thead>\n",
              "    <tr style=\"text-align: right;\">\n",
              "      <th></th>\n",
              "      <th>housing</th>\n",
              "    </tr>\n",
              "  </thead>\n",
              "  <tbody>\n",
              "    <tr>\n",
              "      <th>yes</th>\n",
              "      <td>16297</td>\n",
              "    </tr>\n",
              "    <tr>\n",
              "      <th>no</th>\n",
              "      <td>13090</td>\n",
              "    </tr>\n",
              "  </tbody>\n",
              "</table>\n",
              "</div></td><td><div>\n",
              "<style scoped>\n",
              "    .dataframe tbody tr th:only-of-type {\n",
              "        vertical-align: middle;\n",
              "    }\n",
              "\n",
              "    .dataframe tbody tr th {\n",
              "        vertical-align: top;\n",
              "    }\n",
              "\n",
              "    .dataframe thead th {\n",
              "        text-align: right;\n",
              "    }\n",
              "</style>\n",
              "<table border=\"1\" class=\"dataframe\">\n",
              "  <thead>\n",
              "    <tr style=\"text-align: right;\">\n",
              "      <th></th>\n",
              "      <th>loan</th>\n",
              "    </tr>\n",
              "  </thead>\n",
              "  <tbody>\n",
              "    <tr>\n",
              "      <th>no</th>\n",
              "      <td>24684</td>\n",
              "    </tr>\n",
              "    <tr>\n",
              "      <th>yes</th>\n",
              "      <td>4703</td>\n",
              "    </tr>\n",
              "  </tbody>\n",
              "</table>\n",
              "</div></td><td><div>\n",
              "<style scoped>\n",
              "    .dataframe tbody tr th:only-of-type {\n",
              "        vertical-align: middle;\n",
              "    }\n",
              "\n",
              "    .dataframe tbody tr th {\n",
              "        vertical-align: top;\n",
              "    }\n",
              "\n",
              "    .dataframe thead th {\n",
              "        text-align: right;\n",
              "    }\n",
              "</style>\n",
              "<table border=\"1\" class=\"dataframe\">\n",
              "  <thead>\n",
              "    <tr style=\"text-align: right;\">\n",
              "      <th></th>\n",
              "      <th>contact</th>\n",
              "    </tr>\n",
              "  </thead>\n",
              "  <tbody>\n",
              "    <tr>\n",
              "      <th>cellular</th>\n",
              "      <td>19126</td>\n",
              "    </tr>\n",
              "    <tr>\n",
              "      <th>unknown</th>\n",
              "      <td>8364</td>\n",
              "    </tr>\n",
              "    <tr>\n",
              "      <th>telephone</th>\n",
              "      <td>1897</td>\n",
              "    </tr>\n",
              "  </tbody>\n",
              "</table>\n",
              "</div></td><td><div>\n",
              "<style scoped>\n",
              "    .dataframe tbody tr th:only-of-type {\n",
              "        vertical-align: middle;\n",
              "    }\n",
              "\n",
              "    .dataframe tbody tr th {\n",
              "        vertical-align: top;\n",
              "    }\n",
              "\n",
              "    .dataframe thead th {\n",
              "        text-align: right;\n",
              "    }\n",
              "</style>\n",
              "<table border=\"1\" class=\"dataframe\">\n",
              "  <thead>\n",
              "    <tr style=\"text-align: right;\">\n",
              "      <th></th>\n",
              "      <th>month</th>\n",
              "    </tr>\n",
              "  </thead>\n",
              "  <tbody>\n",
              "    <tr>\n",
              "      <th>may</th>\n",
              "      <td>8916</td>\n",
              "    </tr>\n",
              "    <tr>\n",
              "      <th>jul</th>\n",
              "      <td>4558</td>\n",
              "    </tr>\n",
              "    <tr>\n",
              "      <th>aug</th>\n",
              "      <td>4072</td>\n",
              "    </tr>\n",
              "    <tr>\n",
              "      <th>jun</th>\n",
              "      <td>3453</td>\n",
              "    </tr>\n",
              "    <tr>\n",
              "      <th>nov</th>\n",
              "      <td>2551</td>\n",
              "    </tr>\n",
              "    <tr>\n",
              "      <th>apr</th>\n",
              "      <td>1910</td>\n",
              "    </tr>\n",
              "    <tr>\n",
              "      <th>feb</th>\n",
              "      <td>1724</td>\n",
              "    </tr>\n",
              "    <tr>\n",
              "      <th>jan</th>\n",
              "      <td>921</td>\n",
              "    </tr>\n",
              "    <tr>\n",
              "      <th>oct</th>\n",
              "      <td>462</td>\n",
              "    </tr>\n",
              "    <tr>\n",
              "      <th>sep</th>\n",
              "      <td>368</td>\n",
              "    </tr>\n",
              "    <tr>\n",
              "      <th>mar</th>\n",
              "      <td>319</td>\n",
              "    </tr>\n",
              "    <tr>\n",
              "      <th>dec</th>\n",
              "      <td>133</td>\n",
              "    </tr>\n",
              "  </tbody>\n",
              "</table>\n",
              "</div></td><td><div>\n",
              "<style scoped>\n",
              "    .dataframe tbody tr th:only-of-type {\n",
              "        vertical-align: middle;\n",
              "    }\n",
              "\n",
              "    .dataframe tbody tr th {\n",
              "        vertical-align: top;\n",
              "    }\n",
              "\n",
              "    .dataframe thead th {\n",
              "        text-align: right;\n",
              "    }\n",
              "</style>\n",
              "<table border=\"1\" class=\"dataframe\">\n",
              "  <thead>\n",
              "    <tr style=\"text-align: right;\">\n",
              "      <th></th>\n",
              "      <th>poutcome</th>\n",
              "    </tr>\n",
              "  </thead>\n",
              "  <tbody>\n",
              "    <tr>\n",
              "      <th>unknown</th>\n",
              "      <td>24040</td>\n",
              "    </tr>\n",
              "    <tr>\n",
              "      <th>failure</th>\n",
              "      <td>3177</td>\n",
              "    </tr>\n",
              "    <tr>\n",
              "      <th>other</th>\n",
              "      <td>1221</td>\n",
              "    </tr>\n",
              "    <tr>\n",
              "      <th>success</th>\n",
              "      <td>949</td>\n",
              "    </tr>\n",
              "  </tbody>\n",
              "</table>\n",
              "</div></td><td><div>\n",
              "<style scoped>\n",
              "    .dataframe tbody tr th:only-of-type {\n",
              "        vertical-align: middle;\n",
              "    }\n",
              "\n",
              "    .dataframe tbody tr th {\n",
              "        vertical-align: top;\n",
              "    }\n",
              "\n",
              "    .dataframe thead th {\n",
              "        text-align: right;\n",
              "    }\n",
              "</style>\n",
              "<table border=\"1\" class=\"dataframe\">\n",
              "  <thead>\n",
              "    <tr style=\"text-align: right;\">\n",
              "      <th></th>\n",
              "      <th>subscribed</th>\n",
              "    </tr>\n",
              "  </thead>\n",
              "  <tbody>\n",
              "    <tr>\n",
              "      <th>no</th>\n",
              "      <td>25949</td>\n",
              "    </tr>\n",
              "    <tr>\n",
              "      <th>yes</th>\n",
              "      <td>3438</td>\n",
              "    </tr>\n",
              "  </tbody>\n",
              "</table>\n",
              "</div></td></tr></table>"
            ],
            "text/plain": [
              "<IPython.core.display.HTML object>"
            ]
          },
          "metadata": {},
          "execution_count": 27
        }
      ]
    },
    {
      "cell_type": "markdown",
      "metadata": {
        "id": "F2SE6KNd2O98"
      },
      "source": [
        "## Split X and y"
      ]
    },
    {
      "cell_type": "code",
      "metadata": {
        "colab": {
          "base_uri": "https://localhost:8080/",
          "height": 439
        },
        "id": "PyrUjJIw2RsL",
        "outputId": "b70057a1-44dc-49be-c524-d9576f33b51c"
      },
      "source": [
        "bankdata"
      ],
      "execution_count": null,
      "outputs": [
        {
          "output_type": "execute_result",
          "data": {
            "text/html": [
              "<div>\n",
              "<style scoped>\n",
              "    .dataframe tbody tr th:only-of-type {\n",
              "        vertical-align: middle;\n",
              "    }\n",
              "\n",
              "    .dataframe tbody tr th {\n",
              "        vertical-align: top;\n",
              "    }\n",
              "\n",
              "    .dataframe thead th {\n",
              "        text-align: right;\n",
              "    }\n",
              "</style>\n",
              "<table border=\"1\" class=\"dataframe\">\n",
              "  <thead>\n",
              "    <tr style=\"text-align: right;\">\n",
              "      <th></th>\n",
              "      <th>age</th>\n",
              "      <th>job</th>\n",
              "      <th>marital</th>\n",
              "      <th>education</th>\n",
              "      <th>default</th>\n",
              "      <th>balance</th>\n",
              "      <th>housing</th>\n",
              "      <th>loan</th>\n",
              "      <th>contact</th>\n",
              "      <th>day</th>\n",
              "      <th>month</th>\n",
              "      <th>campaign</th>\n",
              "      <th>pdays</th>\n",
              "      <th>previous</th>\n",
              "      <th>poutcome</th>\n",
              "      <th>subscribed</th>\n",
              "    </tr>\n",
              "  </thead>\n",
              "  <tbody>\n",
              "    <tr>\n",
              "      <th>0</th>\n",
              "      <td>29</td>\n",
              "      <td>admin.</td>\n",
              "      <td>married</td>\n",
              "      <td>secondary</td>\n",
              "      <td>no</td>\n",
              "      <td>1489</td>\n",
              "      <td>yes</td>\n",
              "      <td>no</td>\n",
              "      <td>cellular</td>\n",
              "      <td>20</td>\n",
              "      <td>apr</td>\n",
              "      <td>1</td>\n",
              "      <td>-1</td>\n",
              "      <td>0</td>\n",
              "      <td>unknown</td>\n",
              "      <td>no</td>\n",
              "    </tr>\n",
              "    <tr>\n",
              "      <th>1</th>\n",
              "      <td>33</td>\n",
              "      <td>admin.</td>\n",
              "      <td>single</td>\n",
              "      <td>tertiary</td>\n",
              "      <td>no</td>\n",
              "      <td>3379</td>\n",
              "      <td>no</td>\n",
              "      <td>no</td>\n",
              "      <td>cellular</td>\n",
              "      <td>20</td>\n",
              "      <td>nov</td>\n",
              "      <td>3</td>\n",
              "      <td>-1</td>\n",
              "      <td>0</td>\n",
              "      <td>unknown</td>\n",
              "      <td>no</td>\n",
              "    </tr>\n",
              "    <tr>\n",
              "      <th>2</th>\n",
              "      <td>30</td>\n",
              "      <td>management</td>\n",
              "      <td>married</td>\n",
              "      <td>tertiary</td>\n",
              "      <td>no</td>\n",
              "      <td>3134</td>\n",
              "      <td>yes</td>\n",
              "      <td>no</td>\n",
              "      <td>cellular</td>\n",
              "      <td>17</td>\n",
              "      <td>jul</td>\n",
              "      <td>1</td>\n",
              "      <td>-1</td>\n",
              "      <td>0</td>\n",
              "      <td>unknown</td>\n",
              "      <td>no</td>\n",
              "    </tr>\n",
              "    <tr>\n",
              "      <th>3</th>\n",
              "      <td>33</td>\n",
              "      <td>admin.</td>\n",
              "      <td>divorced</td>\n",
              "      <td>secondary</td>\n",
              "      <td>no</td>\n",
              "      <td>294</td>\n",
              "      <td>yes</td>\n",
              "      <td>no</td>\n",
              "      <td>cellular</td>\n",
              "      <td>8</td>\n",
              "      <td>may</td>\n",
              "      <td>1</td>\n",
              "      <td>-1</td>\n",
              "      <td>0</td>\n",
              "      <td>unknown</td>\n",
              "      <td>yes</td>\n",
              "    </tr>\n",
              "    <tr>\n",
              "      <th>4</th>\n",
              "      <td>42</td>\n",
              "      <td>technician</td>\n",
              "      <td>married</td>\n",
              "      <td>tertiary</td>\n",
              "      <td>no</td>\n",
              "      <td>644</td>\n",
              "      <td>yes</td>\n",
              "      <td>no</td>\n",
              "      <td>unknown</td>\n",
              "      <td>7</td>\n",
              "      <td>may</td>\n",
              "      <td>1</td>\n",
              "      <td>-1</td>\n",
              "      <td>0</td>\n",
              "      <td>unknown</td>\n",
              "      <td>no</td>\n",
              "    </tr>\n",
              "    <tr>\n",
              "      <th>...</th>\n",
              "      <td>...</td>\n",
              "      <td>...</td>\n",
              "      <td>...</td>\n",
              "      <td>...</td>\n",
              "      <td>...</td>\n",
              "      <td>...</td>\n",
              "      <td>...</td>\n",
              "      <td>...</td>\n",
              "      <td>...</td>\n",
              "      <td>...</td>\n",
              "      <td>...</td>\n",
              "      <td>...</td>\n",
              "      <td>...</td>\n",
              "      <td>...</td>\n",
              "      <td>...</td>\n",
              "      <td>...</td>\n",
              "    </tr>\n",
              "    <tr>\n",
              "      <th>29382</th>\n",
              "      <td>55</td>\n",
              "      <td>housemaid</td>\n",
              "      <td>divorced</td>\n",
              "      <td>unknown</td>\n",
              "      <td>no</td>\n",
              "      <td>3068</td>\n",
              "      <td>no</td>\n",
              "      <td>no</td>\n",
              "      <td>cellular</td>\n",
              "      <td>7</td>\n",
              "      <td>jul</td>\n",
              "      <td>3</td>\n",
              "      <td>-1</td>\n",
              "      <td>0</td>\n",
              "      <td>unknown</td>\n",
              "      <td>no</td>\n",
              "    </tr>\n",
              "    <tr>\n",
              "      <th>29383</th>\n",
              "      <td>38</td>\n",
              "      <td>blue-collar</td>\n",
              "      <td>married</td>\n",
              "      <td>primary</td>\n",
              "      <td>no</td>\n",
              "      <td>-459</td>\n",
              "      <td>yes</td>\n",
              "      <td>yes</td>\n",
              "      <td>cellular</td>\n",
              "      <td>19</td>\n",
              "      <td>nov</td>\n",
              "      <td>2</td>\n",
              "      <td>-1</td>\n",
              "      <td>0</td>\n",
              "      <td>unknown</td>\n",
              "      <td>no</td>\n",
              "    </tr>\n",
              "    <tr>\n",
              "      <th>29384</th>\n",
              "      <td>52</td>\n",
              "      <td>management</td>\n",
              "      <td>married</td>\n",
              "      <td>tertiary</td>\n",
              "      <td>no</td>\n",
              "      <td>1147</td>\n",
              "      <td>no</td>\n",
              "      <td>no</td>\n",
              "      <td>unknown</td>\n",
              "      <td>18</td>\n",
              "      <td>jun</td>\n",
              "      <td>1</td>\n",
              "      <td>-1</td>\n",
              "      <td>0</td>\n",
              "      <td>unknown</td>\n",
              "      <td>no</td>\n",
              "    </tr>\n",
              "    <tr>\n",
              "      <th>29385</th>\n",
              "      <td>34</td>\n",
              "      <td>technician</td>\n",
              "      <td>single</td>\n",
              "      <td>tertiary</td>\n",
              "      <td>yes</td>\n",
              "      <td>33</td>\n",
              "      <td>yes</td>\n",
              "      <td>yes</td>\n",
              "      <td>unknown</td>\n",
              "      <td>9</td>\n",
              "      <td>may</td>\n",
              "      <td>1</td>\n",
              "      <td>-1</td>\n",
              "      <td>0</td>\n",
              "      <td>unknown</td>\n",
              "      <td>no</td>\n",
              "    </tr>\n",
              "    <tr>\n",
              "      <th>29386</th>\n",
              "      <td>44</td>\n",
              "      <td>management</td>\n",
              "      <td>married</td>\n",
              "      <td>secondary</td>\n",
              "      <td>no</td>\n",
              "      <td>3286</td>\n",
              "      <td>yes</td>\n",
              "      <td>no</td>\n",
              "      <td>cellular</td>\n",
              "      <td>18</td>\n",
              "      <td>jul</td>\n",
              "      <td>1</td>\n",
              "      <td>-1</td>\n",
              "      <td>0</td>\n",
              "      <td>unknown</td>\n",
              "      <td>no</td>\n",
              "    </tr>\n",
              "  </tbody>\n",
              "</table>\n",
              "<p>29387 rows × 16 columns</p>\n",
              "</div>"
            ],
            "text/plain": [
              "       age          job   marital  ... previous poutcome  subscribed\n",
              "0       29       admin.   married  ...        0  unknown          no\n",
              "1       33       admin.    single  ...        0  unknown          no\n",
              "2       30   management   married  ...        0  unknown          no\n",
              "3       33       admin.  divorced  ...        0  unknown         yes\n",
              "4       42   technician   married  ...        0  unknown          no\n",
              "...    ...          ...       ...  ...      ...      ...         ...\n",
              "29382   55    housemaid  divorced  ...        0  unknown          no\n",
              "29383   38  blue-collar   married  ...        0  unknown          no\n",
              "29384   52   management   married  ...        0  unknown          no\n",
              "29385   34   technician    single  ...        0  unknown          no\n",
              "29386   44   management   married  ...        0  unknown          no\n",
              "\n",
              "[29387 rows x 16 columns]"
            ]
          },
          "metadata": {},
          "execution_count": 28
        }
      ]
    },
    {
      "cell_type": "code",
      "metadata": {
        "colab": {
          "base_uri": "https://localhost:8080/"
        },
        "id": "VjuJTsGV5o46",
        "outputId": "5903c924-5069-4866-ac8f-4bc5995957f9"
      },
      "source": [
        "bankdata.subscribed[bankdata.subscribed == 'no'] = int(0)\n",
        "bankdata.subscribed[bankdata.subscribed == 'yes'] = int(1)"
      ],
      "execution_count": null,
      "outputs": [
        {
          "output_type": "stream",
          "name": "stderr",
          "text": [
            "/usr/local/lib/python3.7/dist-packages/ipykernel_launcher.py:1: SettingWithCopyWarning: \n",
            "A value is trying to be set on a copy of a slice from a DataFrame\n",
            "\n",
            "See the caveats in the documentation: https://pandas.pydata.org/pandas-docs/stable/user_guide/indexing.html#returning-a-view-versus-a-copy\n",
            "  \"\"\"Entry point for launching an IPython kernel.\n",
            "/usr/local/lib/python3.7/dist-packages/ipykernel_launcher.py:2: SettingWithCopyWarning: \n",
            "A value is trying to be set on a copy of a slice from a DataFrame\n",
            "\n",
            "See the caveats in the documentation: https://pandas.pydata.org/pandas-docs/stable/user_guide/indexing.html#returning-a-view-versus-a-copy\n",
            "  \n"
          ]
        }
      ]
    },
    {
      "cell_type": "code",
      "metadata": {
        "colab": {
          "base_uri": "https://localhost:8080/",
          "height": 439
        },
        "id": "tDzkG4Qw5xNZ",
        "outputId": "ee543cc0-fd96-4679-cd7a-9fc6c8ae5c7a"
      },
      "source": [
        "bankdata"
      ],
      "execution_count": null,
      "outputs": [
        {
          "output_type": "execute_result",
          "data": {
            "text/html": [
              "<div>\n",
              "<style scoped>\n",
              "    .dataframe tbody tr th:only-of-type {\n",
              "        vertical-align: middle;\n",
              "    }\n",
              "\n",
              "    .dataframe tbody tr th {\n",
              "        vertical-align: top;\n",
              "    }\n",
              "\n",
              "    .dataframe thead th {\n",
              "        text-align: right;\n",
              "    }\n",
              "</style>\n",
              "<table border=\"1\" class=\"dataframe\">\n",
              "  <thead>\n",
              "    <tr style=\"text-align: right;\">\n",
              "      <th></th>\n",
              "      <th>age</th>\n",
              "      <th>job</th>\n",
              "      <th>marital</th>\n",
              "      <th>education</th>\n",
              "      <th>default</th>\n",
              "      <th>balance</th>\n",
              "      <th>housing</th>\n",
              "      <th>loan</th>\n",
              "      <th>contact</th>\n",
              "      <th>day</th>\n",
              "      <th>month</th>\n",
              "      <th>campaign</th>\n",
              "      <th>pdays</th>\n",
              "      <th>previous</th>\n",
              "      <th>poutcome</th>\n",
              "      <th>subscribed</th>\n",
              "    </tr>\n",
              "  </thead>\n",
              "  <tbody>\n",
              "    <tr>\n",
              "      <th>0</th>\n",
              "      <td>29</td>\n",
              "      <td>admin.</td>\n",
              "      <td>married</td>\n",
              "      <td>secondary</td>\n",
              "      <td>no</td>\n",
              "      <td>1489</td>\n",
              "      <td>yes</td>\n",
              "      <td>no</td>\n",
              "      <td>cellular</td>\n",
              "      <td>20</td>\n",
              "      <td>apr</td>\n",
              "      <td>1</td>\n",
              "      <td>-1</td>\n",
              "      <td>0</td>\n",
              "      <td>unknown</td>\n",
              "      <td>0</td>\n",
              "    </tr>\n",
              "    <tr>\n",
              "      <th>1</th>\n",
              "      <td>33</td>\n",
              "      <td>admin.</td>\n",
              "      <td>single</td>\n",
              "      <td>tertiary</td>\n",
              "      <td>no</td>\n",
              "      <td>3379</td>\n",
              "      <td>no</td>\n",
              "      <td>no</td>\n",
              "      <td>cellular</td>\n",
              "      <td>20</td>\n",
              "      <td>nov</td>\n",
              "      <td>3</td>\n",
              "      <td>-1</td>\n",
              "      <td>0</td>\n",
              "      <td>unknown</td>\n",
              "      <td>0</td>\n",
              "    </tr>\n",
              "    <tr>\n",
              "      <th>2</th>\n",
              "      <td>30</td>\n",
              "      <td>management</td>\n",
              "      <td>married</td>\n",
              "      <td>tertiary</td>\n",
              "      <td>no</td>\n",
              "      <td>3134</td>\n",
              "      <td>yes</td>\n",
              "      <td>no</td>\n",
              "      <td>cellular</td>\n",
              "      <td>17</td>\n",
              "      <td>jul</td>\n",
              "      <td>1</td>\n",
              "      <td>-1</td>\n",
              "      <td>0</td>\n",
              "      <td>unknown</td>\n",
              "      <td>0</td>\n",
              "    </tr>\n",
              "    <tr>\n",
              "      <th>3</th>\n",
              "      <td>33</td>\n",
              "      <td>admin.</td>\n",
              "      <td>divorced</td>\n",
              "      <td>secondary</td>\n",
              "      <td>no</td>\n",
              "      <td>294</td>\n",
              "      <td>yes</td>\n",
              "      <td>no</td>\n",
              "      <td>cellular</td>\n",
              "      <td>8</td>\n",
              "      <td>may</td>\n",
              "      <td>1</td>\n",
              "      <td>-1</td>\n",
              "      <td>0</td>\n",
              "      <td>unknown</td>\n",
              "      <td>1</td>\n",
              "    </tr>\n",
              "    <tr>\n",
              "      <th>4</th>\n",
              "      <td>42</td>\n",
              "      <td>technician</td>\n",
              "      <td>married</td>\n",
              "      <td>tertiary</td>\n",
              "      <td>no</td>\n",
              "      <td>644</td>\n",
              "      <td>yes</td>\n",
              "      <td>no</td>\n",
              "      <td>unknown</td>\n",
              "      <td>7</td>\n",
              "      <td>may</td>\n",
              "      <td>1</td>\n",
              "      <td>-1</td>\n",
              "      <td>0</td>\n",
              "      <td>unknown</td>\n",
              "      <td>0</td>\n",
              "    </tr>\n",
              "    <tr>\n",
              "      <th>...</th>\n",
              "      <td>...</td>\n",
              "      <td>...</td>\n",
              "      <td>...</td>\n",
              "      <td>...</td>\n",
              "      <td>...</td>\n",
              "      <td>...</td>\n",
              "      <td>...</td>\n",
              "      <td>...</td>\n",
              "      <td>...</td>\n",
              "      <td>...</td>\n",
              "      <td>...</td>\n",
              "      <td>...</td>\n",
              "      <td>...</td>\n",
              "      <td>...</td>\n",
              "      <td>...</td>\n",
              "      <td>...</td>\n",
              "    </tr>\n",
              "    <tr>\n",
              "      <th>29382</th>\n",
              "      <td>55</td>\n",
              "      <td>housemaid</td>\n",
              "      <td>divorced</td>\n",
              "      <td>unknown</td>\n",
              "      <td>no</td>\n",
              "      <td>3068</td>\n",
              "      <td>no</td>\n",
              "      <td>no</td>\n",
              "      <td>cellular</td>\n",
              "      <td>7</td>\n",
              "      <td>jul</td>\n",
              "      <td>3</td>\n",
              "      <td>-1</td>\n",
              "      <td>0</td>\n",
              "      <td>unknown</td>\n",
              "      <td>0</td>\n",
              "    </tr>\n",
              "    <tr>\n",
              "      <th>29383</th>\n",
              "      <td>38</td>\n",
              "      <td>blue-collar</td>\n",
              "      <td>married</td>\n",
              "      <td>primary</td>\n",
              "      <td>no</td>\n",
              "      <td>-459</td>\n",
              "      <td>yes</td>\n",
              "      <td>yes</td>\n",
              "      <td>cellular</td>\n",
              "      <td>19</td>\n",
              "      <td>nov</td>\n",
              "      <td>2</td>\n",
              "      <td>-1</td>\n",
              "      <td>0</td>\n",
              "      <td>unknown</td>\n",
              "      <td>0</td>\n",
              "    </tr>\n",
              "    <tr>\n",
              "      <th>29384</th>\n",
              "      <td>52</td>\n",
              "      <td>management</td>\n",
              "      <td>married</td>\n",
              "      <td>tertiary</td>\n",
              "      <td>no</td>\n",
              "      <td>1147</td>\n",
              "      <td>no</td>\n",
              "      <td>no</td>\n",
              "      <td>unknown</td>\n",
              "      <td>18</td>\n",
              "      <td>jun</td>\n",
              "      <td>1</td>\n",
              "      <td>-1</td>\n",
              "      <td>0</td>\n",
              "      <td>unknown</td>\n",
              "      <td>0</td>\n",
              "    </tr>\n",
              "    <tr>\n",
              "      <th>29385</th>\n",
              "      <td>34</td>\n",
              "      <td>technician</td>\n",
              "      <td>single</td>\n",
              "      <td>tertiary</td>\n",
              "      <td>yes</td>\n",
              "      <td>33</td>\n",
              "      <td>yes</td>\n",
              "      <td>yes</td>\n",
              "      <td>unknown</td>\n",
              "      <td>9</td>\n",
              "      <td>may</td>\n",
              "      <td>1</td>\n",
              "      <td>-1</td>\n",
              "      <td>0</td>\n",
              "      <td>unknown</td>\n",
              "      <td>0</td>\n",
              "    </tr>\n",
              "    <tr>\n",
              "      <th>29386</th>\n",
              "      <td>44</td>\n",
              "      <td>management</td>\n",
              "      <td>married</td>\n",
              "      <td>secondary</td>\n",
              "      <td>no</td>\n",
              "      <td>3286</td>\n",
              "      <td>yes</td>\n",
              "      <td>no</td>\n",
              "      <td>cellular</td>\n",
              "      <td>18</td>\n",
              "      <td>jul</td>\n",
              "      <td>1</td>\n",
              "      <td>-1</td>\n",
              "      <td>0</td>\n",
              "      <td>unknown</td>\n",
              "      <td>0</td>\n",
              "    </tr>\n",
              "  </tbody>\n",
              "</table>\n",
              "<p>29387 rows × 16 columns</p>\n",
              "</div>"
            ],
            "text/plain": [
              "       age          job   marital  ... previous poutcome  subscribed\n",
              "0       29       admin.   married  ...        0  unknown           0\n",
              "1       33       admin.    single  ...        0  unknown           0\n",
              "2       30   management   married  ...        0  unknown           0\n",
              "3       33       admin.  divorced  ...        0  unknown           1\n",
              "4       42   technician   married  ...        0  unknown           0\n",
              "...    ...          ...       ...  ...      ...      ...         ...\n",
              "29382   55    housemaid  divorced  ...        0  unknown           0\n",
              "29383   38  blue-collar   married  ...        0  unknown           0\n",
              "29384   52   management   married  ...        0  unknown           0\n",
              "29385   34   technician    single  ...        0  unknown           0\n",
              "29386   44   management   married  ...        0  unknown           0\n",
              "\n",
              "[29387 rows x 16 columns]"
            ]
          },
          "metadata": {},
          "execution_count": 30
        }
      ]
    },
    {
      "cell_type": "code",
      "metadata": {
        "id": "eP5lX-tf298M"
      },
      "source": [
        "X = bankdata.iloc[:, :-1]\n",
        "y = bankdata.iloc[:, -1]"
      ],
      "execution_count": null,
      "outputs": []
    },
    {
      "cell_type": "code",
      "metadata": {
        "colab": {
          "base_uri": "https://localhost:8080/",
          "height": 439
        },
        "id": "LJALHl0zCYup",
        "outputId": "a7c50efc-0517-4d3b-df7a-4ea560e8f1f7"
      },
      "source": [
        "X"
      ],
      "execution_count": null,
      "outputs": [
        {
          "output_type": "execute_result",
          "data": {
            "text/html": [
              "<div>\n",
              "<style scoped>\n",
              "    .dataframe tbody tr th:only-of-type {\n",
              "        vertical-align: middle;\n",
              "    }\n",
              "\n",
              "    .dataframe tbody tr th {\n",
              "        vertical-align: top;\n",
              "    }\n",
              "\n",
              "    .dataframe thead th {\n",
              "        text-align: right;\n",
              "    }\n",
              "</style>\n",
              "<table border=\"1\" class=\"dataframe\">\n",
              "  <thead>\n",
              "    <tr style=\"text-align: right;\">\n",
              "      <th></th>\n",
              "      <th>age</th>\n",
              "      <th>job</th>\n",
              "      <th>marital</th>\n",
              "      <th>education</th>\n",
              "      <th>default</th>\n",
              "      <th>balance</th>\n",
              "      <th>housing</th>\n",
              "      <th>loan</th>\n",
              "      <th>contact</th>\n",
              "      <th>day</th>\n",
              "      <th>month</th>\n",
              "      <th>campaign</th>\n",
              "      <th>pdays</th>\n",
              "      <th>previous</th>\n",
              "      <th>poutcome</th>\n",
              "    </tr>\n",
              "  </thead>\n",
              "  <tbody>\n",
              "    <tr>\n",
              "      <th>0</th>\n",
              "      <td>29</td>\n",
              "      <td>admin.</td>\n",
              "      <td>married</td>\n",
              "      <td>secondary</td>\n",
              "      <td>no</td>\n",
              "      <td>1489</td>\n",
              "      <td>yes</td>\n",
              "      <td>no</td>\n",
              "      <td>cellular</td>\n",
              "      <td>20</td>\n",
              "      <td>apr</td>\n",
              "      <td>1</td>\n",
              "      <td>-1</td>\n",
              "      <td>0</td>\n",
              "      <td>unknown</td>\n",
              "    </tr>\n",
              "    <tr>\n",
              "      <th>1</th>\n",
              "      <td>33</td>\n",
              "      <td>admin.</td>\n",
              "      <td>single</td>\n",
              "      <td>tertiary</td>\n",
              "      <td>no</td>\n",
              "      <td>3379</td>\n",
              "      <td>no</td>\n",
              "      <td>no</td>\n",
              "      <td>cellular</td>\n",
              "      <td>20</td>\n",
              "      <td>nov</td>\n",
              "      <td>3</td>\n",
              "      <td>-1</td>\n",
              "      <td>0</td>\n",
              "      <td>unknown</td>\n",
              "    </tr>\n",
              "    <tr>\n",
              "      <th>2</th>\n",
              "      <td>30</td>\n",
              "      <td>management</td>\n",
              "      <td>married</td>\n",
              "      <td>tertiary</td>\n",
              "      <td>no</td>\n",
              "      <td>3134</td>\n",
              "      <td>yes</td>\n",
              "      <td>no</td>\n",
              "      <td>cellular</td>\n",
              "      <td>17</td>\n",
              "      <td>jul</td>\n",
              "      <td>1</td>\n",
              "      <td>-1</td>\n",
              "      <td>0</td>\n",
              "      <td>unknown</td>\n",
              "    </tr>\n",
              "    <tr>\n",
              "      <th>3</th>\n",
              "      <td>33</td>\n",
              "      <td>admin.</td>\n",
              "      <td>divorced</td>\n",
              "      <td>secondary</td>\n",
              "      <td>no</td>\n",
              "      <td>294</td>\n",
              "      <td>yes</td>\n",
              "      <td>no</td>\n",
              "      <td>cellular</td>\n",
              "      <td>8</td>\n",
              "      <td>may</td>\n",
              "      <td>1</td>\n",
              "      <td>-1</td>\n",
              "      <td>0</td>\n",
              "      <td>unknown</td>\n",
              "    </tr>\n",
              "    <tr>\n",
              "      <th>4</th>\n",
              "      <td>42</td>\n",
              "      <td>technician</td>\n",
              "      <td>married</td>\n",
              "      <td>tertiary</td>\n",
              "      <td>no</td>\n",
              "      <td>644</td>\n",
              "      <td>yes</td>\n",
              "      <td>no</td>\n",
              "      <td>unknown</td>\n",
              "      <td>7</td>\n",
              "      <td>may</td>\n",
              "      <td>1</td>\n",
              "      <td>-1</td>\n",
              "      <td>0</td>\n",
              "      <td>unknown</td>\n",
              "    </tr>\n",
              "    <tr>\n",
              "      <th>...</th>\n",
              "      <td>...</td>\n",
              "      <td>...</td>\n",
              "      <td>...</td>\n",
              "      <td>...</td>\n",
              "      <td>...</td>\n",
              "      <td>...</td>\n",
              "      <td>...</td>\n",
              "      <td>...</td>\n",
              "      <td>...</td>\n",
              "      <td>...</td>\n",
              "      <td>...</td>\n",
              "      <td>...</td>\n",
              "      <td>...</td>\n",
              "      <td>...</td>\n",
              "      <td>...</td>\n",
              "    </tr>\n",
              "    <tr>\n",
              "      <th>29382</th>\n",
              "      <td>55</td>\n",
              "      <td>housemaid</td>\n",
              "      <td>divorced</td>\n",
              "      <td>unknown</td>\n",
              "      <td>no</td>\n",
              "      <td>3068</td>\n",
              "      <td>no</td>\n",
              "      <td>no</td>\n",
              "      <td>cellular</td>\n",
              "      <td>7</td>\n",
              "      <td>jul</td>\n",
              "      <td>3</td>\n",
              "      <td>-1</td>\n",
              "      <td>0</td>\n",
              "      <td>unknown</td>\n",
              "    </tr>\n",
              "    <tr>\n",
              "      <th>29383</th>\n",
              "      <td>38</td>\n",
              "      <td>blue-collar</td>\n",
              "      <td>married</td>\n",
              "      <td>primary</td>\n",
              "      <td>no</td>\n",
              "      <td>-459</td>\n",
              "      <td>yes</td>\n",
              "      <td>yes</td>\n",
              "      <td>cellular</td>\n",
              "      <td>19</td>\n",
              "      <td>nov</td>\n",
              "      <td>2</td>\n",
              "      <td>-1</td>\n",
              "      <td>0</td>\n",
              "      <td>unknown</td>\n",
              "    </tr>\n",
              "    <tr>\n",
              "      <th>29384</th>\n",
              "      <td>52</td>\n",
              "      <td>management</td>\n",
              "      <td>married</td>\n",
              "      <td>tertiary</td>\n",
              "      <td>no</td>\n",
              "      <td>1147</td>\n",
              "      <td>no</td>\n",
              "      <td>no</td>\n",
              "      <td>unknown</td>\n",
              "      <td>18</td>\n",
              "      <td>jun</td>\n",
              "      <td>1</td>\n",
              "      <td>-1</td>\n",
              "      <td>0</td>\n",
              "      <td>unknown</td>\n",
              "    </tr>\n",
              "    <tr>\n",
              "      <th>29385</th>\n",
              "      <td>34</td>\n",
              "      <td>technician</td>\n",
              "      <td>single</td>\n",
              "      <td>tertiary</td>\n",
              "      <td>yes</td>\n",
              "      <td>33</td>\n",
              "      <td>yes</td>\n",
              "      <td>yes</td>\n",
              "      <td>unknown</td>\n",
              "      <td>9</td>\n",
              "      <td>may</td>\n",
              "      <td>1</td>\n",
              "      <td>-1</td>\n",
              "      <td>0</td>\n",
              "      <td>unknown</td>\n",
              "    </tr>\n",
              "    <tr>\n",
              "      <th>29386</th>\n",
              "      <td>44</td>\n",
              "      <td>management</td>\n",
              "      <td>married</td>\n",
              "      <td>secondary</td>\n",
              "      <td>no</td>\n",
              "      <td>3286</td>\n",
              "      <td>yes</td>\n",
              "      <td>no</td>\n",
              "      <td>cellular</td>\n",
              "      <td>18</td>\n",
              "      <td>jul</td>\n",
              "      <td>1</td>\n",
              "      <td>-1</td>\n",
              "      <td>0</td>\n",
              "      <td>unknown</td>\n",
              "    </tr>\n",
              "  </tbody>\n",
              "</table>\n",
              "<p>29387 rows × 15 columns</p>\n",
              "</div>"
            ],
            "text/plain": [
              "       age          job   marital  ... pdays previous  poutcome\n",
              "0       29       admin.   married  ...    -1        0   unknown\n",
              "1       33       admin.    single  ...    -1        0   unknown\n",
              "2       30   management   married  ...    -1        0   unknown\n",
              "3       33       admin.  divorced  ...    -1        0   unknown\n",
              "4       42   technician   married  ...    -1        0   unknown\n",
              "...    ...          ...       ...  ...   ...      ...       ...\n",
              "29382   55    housemaid  divorced  ...    -1        0   unknown\n",
              "29383   38  blue-collar   married  ...    -1        0   unknown\n",
              "29384   52   management   married  ...    -1        0   unknown\n",
              "29385   34   technician    single  ...    -1        0   unknown\n",
              "29386   44   management   married  ...    -1        0   unknown\n",
              "\n",
              "[29387 rows x 15 columns]"
            ]
          },
          "metadata": {},
          "execution_count": 32
        }
      ]
    },
    {
      "cell_type": "code",
      "metadata": {
        "id": "OcxatyFB3EHD"
      },
      "source": [
        "y=y.astype(int)"
      ],
      "execution_count": null,
      "outputs": []
    },
    {
      "cell_type": "code",
      "metadata": {
        "colab": {
          "base_uri": "https://localhost:8080/"
        },
        "id": "6AHfsR0g_bGN",
        "outputId": "30a5c37d-36a0-4aa1-c350-da1e5686e5c7"
      },
      "source": [
        "y"
      ],
      "execution_count": null,
      "outputs": [
        {
          "output_type": "execute_result",
          "data": {
            "text/plain": [
              "0        0\n",
              "1        0\n",
              "2        0\n",
              "3        1\n",
              "4        0\n",
              "        ..\n",
              "29382    0\n",
              "29383    0\n",
              "29384    0\n",
              "29385    0\n",
              "29386    0\n",
              "Name: subscribed, Length: 29387, dtype: int64"
            ]
          },
          "metadata": {},
          "execution_count": 34
        }
      ]
    },
    {
      "cell_type": "markdown",
      "metadata": {
        "id": "MwskbVeOrZ6L"
      },
      "source": [
        "## Feature engineering"
      ]
    },
    {
      "cell_type": "code",
      "metadata": {
        "colab": {
          "base_uri": "https://localhost:8080/"
        },
        "id": "VamR3KD0rBq1",
        "outputId": "33b8354a-f95f-4626-cc8a-5303363816f3"
      },
      "source": [
        "from sklearn.compose import ColumnTransformer\n",
        "from sklearn.preprocessing import OneHotEncoder\n",
        "ct = ColumnTransformer(transformers=[('encoder', OneHotEncoder(), [1, 2, 3, 4, 6, 7, 8, 10, 14])], remainder='passthrough')\n",
        "X_encoded = np.array(ct.fit_transform(X))\n",
        "print(X_encoded)"
      ],
      "execution_count": null,
      "outputs": [
        {
          "output_type": "stream",
          "name": "stdout",
          "text": [
            "[[ 1.  0.  0. ...  1. -1.  0.]\n",
            " [ 1.  0.  0. ...  3. -1.  0.]\n",
            " [ 0.  0.  0. ...  1. -1.  0.]\n",
            " ...\n",
            " [ 0.  0.  0. ...  1. -1.  0.]\n",
            " [ 0.  0.  0. ...  1. -1.  0.]\n",
            " [ 0.  0.  0. ...  1. -1.  0.]]\n"
          ]
        }
      ]
    },
    {
      "cell_type": "code",
      "metadata": {
        "colab": {
          "base_uri": "https://localhost:8080/"
        },
        "id": "z7PFuaAG3cHq",
        "outputId": "49c58668-f9f2-4ba3-fae0-e7535a1c0dd6"
      },
      "source": [
        "X_encoded[0]"
      ],
      "execution_count": null,
      "outputs": [
        {
          "output_type": "execute_result",
          "data": {
            "text/plain": [
              "array([ 1.000e+00,  0.000e+00,  0.000e+00,  0.000e+00,  0.000e+00,\n",
              "        0.000e+00,  0.000e+00,  0.000e+00,  0.000e+00,  0.000e+00,\n",
              "        0.000e+00,  0.000e+00,  0.000e+00,  1.000e+00,  0.000e+00,\n",
              "        0.000e+00,  1.000e+00,  0.000e+00,  0.000e+00,  1.000e+00,\n",
              "        0.000e+00,  0.000e+00,  1.000e+00,  1.000e+00,  0.000e+00,\n",
              "        1.000e+00,  0.000e+00,  0.000e+00,  1.000e+00,  0.000e+00,\n",
              "        0.000e+00,  0.000e+00,  0.000e+00,  0.000e+00,  0.000e+00,\n",
              "        0.000e+00,  0.000e+00,  0.000e+00,  0.000e+00,  0.000e+00,\n",
              "        0.000e+00,  0.000e+00,  0.000e+00,  1.000e+00,  2.900e+01,\n",
              "        1.489e+03,  2.000e+01,  1.000e+00, -1.000e+00,  0.000e+00])"
            ]
          },
          "metadata": {},
          "execution_count": 36
        }
      ]
    },
    {
      "cell_type": "markdown",
      "metadata": {
        "id": "a9JRUiT300Zr"
      },
      "source": [
        "# Model training"
      ]
    },
    {
      "cell_type": "markdown",
      "metadata": {
        "id": "6PoazXsC6TyW"
      },
      "source": [
        "## Train test split"
      ]
    },
    {
      "cell_type": "code",
      "metadata": {
        "id": "v3C2LIf81ckf"
      },
      "source": [
        "X_train, X_test, y_train, y_test = train_test_split(X_encoded, y, test_size = 0.2, random_state = 88)"
      ],
      "execution_count": null,
      "outputs": []
    },
    {
      "cell_type": "code",
      "metadata": {
        "colab": {
          "base_uri": "https://localhost:8080/"
        },
        "id": "mhg63Lwn97lC",
        "outputId": "aa28abd0-c2d8-407c-a338-3dcaf8371bee"
      },
      "source": [
        "y_train"
      ],
      "execution_count": null,
      "outputs": [
        {
          "output_type": "execute_result",
          "data": {
            "text/plain": [
              "15541    0\n",
              "21021    0\n",
              "17130    0\n",
              "7371     0\n",
              "27250    0\n",
              "        ..\n",
              "24938    0\n",
              "2481     0\n",
              "4047     0\n",
              "6432     0\n",
              "26584    0\n",
              "Name: subscribed, Length: 23509, dtype: int64"
            ]
          },
          "metadata": {},
          "execution_count": 38
        }
      ]
    },
    {
      "cell_type": "code",
      "metadata": {
        "id": "2zNUTskL6g8c"
      },
      "source": [
        "models = {\n",
        "    'Logic Regression': LogisticRegression(),\n",
        "    'KNN': KNeighborsClassifier(),\n",
        "    'Random Forest': RandomForestClassifier()\n",
        "}\n",
        "\n",
        "def fit_and_score(models, X_train, y_train, X_test, y_test):\n",
        "  np.random.seed(random_state)\n",
        "  model_scores = {}\n",
        "  for name, model in models.items():\n",
        "    model.fit(X_train, y_train)\n",
        "    model_scores[name] = model.score(X_test, y_test)\n",
        "  return model_scores"
      ],
      "execution_count": null,
      "outputs": []
    },
    {
      "cell_type": "code",
      "metadata": {
        "id": "vOOwuU6Z9Bor"
      },
      "source": [
        "from sklearn.linear_model import LogisticRegression\n",
        "model = LogisticRegression()\n",
        "model.fit(X_train, y_train)"
      ],
      "execution_count": null,
      "outputs": []
    },
    {
      "cell_type": "code",
      "metadata": {
        "colab": {
          "base_uri": "https://localhost:8080/"
        },
        "id": "pjvsUAqg_2Oj",
        "outputId": "da84abd9-f846-4aaf-9546-38f1169e5604"
      },
      "source": [
        "score = model.score(X_test, y_test)\n",
        "score"
      ],
      "execution_count": null,
      "outputs": [
        {
          "output_type": "execute_result",
          "data": {
            "text/plain": [
              "0.8812521265736645"
            ]
          },
          "metadata": {},
          "execution_count": 41
        }
      ]
    },
    {
      "cell_type": "markdown",
      "metadata": {
        "id": "_-29q-7rYjfT"
      },
      "source": [
        "# with cross validation"
      ]
    },
    {
      "cell_type": "code",
      "metadata": {
        "id": "y4QZb7LXYm1B"
      },
      "source": [
        "from sklearn.model_selection import RepeatedKFold\n",
        "from sklearn.model_selection import cross_val_score"
      ],
      "execution_count": null,
      "outputs": []
    },
    {
      "cell_type": "code",
      "metadata": {
        "id": "rQ0S15SWZDNZ"
      },
      "source": [
        "cv = RepeatedKFold(n_splits=10, n_repeats=3, random_state=1)\n",
        "model = LogisticRegression()"
      ],
      "execution_count": null,
      "outputs": []
    },
    {
      "cell_type": "code",
      "metadata": {
        "id": "HR0OmI18ZDKj"
      },
      "source": [
        "scores = cross_val_score(model, X_encoded, y, scoring='accuracy', cv=cv, n_jobs=-1)"
      ],
      "execution_count": null,
      "outputs": []
    },
    {
      "cell_type": "code",
      "metadata": {
        "colab": {
          "base_uri": "https://localhost:8080/"
        },
        "id": "2adE9GvjZDH5",
        "outputId": "aae56d94-5168-4512-fca9-0400c72a0f1a"
      },
      "source": [
        "scores"
      ],
      "execution_count": null,
      "outputs": [
        {
          "output_type": "execute_result",
          "data": {
            "text/plain": [
              "array([0.88907792, 0.88431439, 0.87853011, 0.88363389, 0.87342634,\n",
              "       0.88533515, 0.8863559 , 0.88699796, 0.88291355, 0.89652825,\n",
              "       0.89009867, 0.88669616, 0.88533515, 0.8856754 , 0.88431439,\n",
              "       0.88261313, 0.87138482, 0.88053097, 0.89652825, 0.88121171,\n",
              "       0.87172508, 0.87682885, 0.8856754 , 0.87853011, 0.88295339,\n",
              "       0.89418169, 0.89452195, 0.88563649, 0.89380531, 0.88155208])"
            ]
          },
          "metadata": {},
          "execution_count": 45
        }
      ]
    },
    {
      "cell_type": "code",
      "metadata": {
        "id": "9Sus2CvkZDFH"
      },
      "source": [
        ""
      ],
      "execution_count": null,
      "outputs": []
    },
    {
      "cell_type": "markdown",
      "metadata": {
        "id": "hbbKI3hebJtZ"
      },
      "source": [
        "# NN"
      ]
    },
    {
      "cell_type": "code",
      "metadata": {
        "id": "LaHVs8y-ZDCY"
      },
      "source": [
        "from keras.models import Sequential\n",
        "from keras.layers import Dense"
      ],
      "execution_count": null,
      "outputs": []
    },
    {
      "cell_type": "code",
      "metadata": {
        "colab": {
          "base_uri": "https://localhost:8080/"
        },
        "id": "t4GtQa6mde95",
        "outputId": "40933c51-4de0-483e-eef5-2cf1c7175449"
      },
      "source": [
        "X_train.shape"
      ],
      "execution_count": null,
      "outputs": [
        {
          "output_type": "execute_result",
          "data": {
            "text/plain": [
              "(23509, 50)"
            ]
          },
          "metadata": {},
          "execution_count": 58
        }
      ]
    },
    {
      "cell_type": "code",
      "metadata": {
        "id": "tyks3UWqZC_f"
      },
      "source": [
        "model = Sequential()\n",
        "model.add(Dense(12, input_shape=(23509,50), activation='relu'))\n",
        "model.add(Dense(8, activation='relu'))\n",
        "model.add(Dense(1, activation='sigmoid'))"
      ],
      "execution_count": null,
      "outputs": []
    },
    {
      "cell_type": "code",
      "metadata": {
        "id": "tM72eNMEZC8r"
      },
      "source": [
        "model.compile(loss='binary_crossentropy', optimizer='adam', metrics=['accuracy'])"
      ],
      "execution_count": null,
      "outputs": []
    },
    {
      "cell_type": "code",
      "metadata": {
        "colab": {
          "base_uri": "https://localhost:8080/"
        },
        "id": "3n4Csa93ZCy1",
        "outputId": "a058927d-0964-4e62-8865-71d04cf09089"
      },
      "source": [
        "model.fit(X_train, y_train, epochs=150, batch_size=10)"
      ],
      "execution_count": null,
      "outputs": [
        {
          "output_type": "stream",
          "name": "stdout",
          "text": [
            "Epoch 1/150\n",
            "WARNING:tensorflow:Model was constructed with shape (None, 23509, 50) for input KerasTensor(type_spec=TensorSpec(shape=(None, 23509, 50), dtype=tf.float32, name='dense_3_input'), name='dense_3_input', description=\"created by layer 'dense_3_input'\"), but it was called on an input with incompatible shape (None, 50).\n",
            "WARNING:tensorflow:Model was constructed with shape (None, 23509, 50) for input KerasTensor(type_spec=TensorSpec(shape=(None, 23509, 50), dtype=tf.float32, name='dense_3_input'), name='dense_3_input', description=\"created by layer 'dense_3_input'\"), but it was called on an input with incompatible shape (None, 50).\n",
            "2351/2351 [==============================] - 4s 1ms/step - loss: 0.6416 - accuracy: 0.8606\n",
            "Epoch 2/150\n",
            "2351/2351 [==============================] - 3s 1ms/step - loss: 0.4888 - accuracy: 0.8728\n",
            "Epoch 3/150\n",
            "2351/2351 [==============================] - 3s 1ms/step - loss: 0.4611 - accuracy: 0.8722\n",
            "Epoch 4/150\n",
            "2351/2351 [==============================] - 3s 1ms/step - loss: 0.4247 - accuracy: 0.8738\n",
            "Epoch 5/150\n",
            "2351/2351 [==============================] - 3s 1ms/step - loss: 0.3972 - accuracy: 0.8769\n",
            "Epoch 6/150\n",
            "2351/2351 [==============================] - 3s 1ms/step - loss: 0.3928 - accuracy: 0.8787\n",
            "Epoch 7/150\n",
            "2351/2351 [==============================] - 3s 1ms/step - loss: 0.3762 - accuracy: 0.8796\n",
            "Epoch 8/150\n",
            "2351/2351 [==============================] - 3s 1ms/step - loss: 0.3596 - accuracy: 0.8826\n",
            "Epoch 9/150\n",
            "2351/2351 [==============================] - 3s 1ms/step - loss: 0.3470 - accuracy: 0.8843\n",
            "Epoch 10/150\n",
            "2351/2351 [==============================] - 3s 1ms/step - loss: 0.3290 - accuracy: 0.8854\n",
            "Epoch 11/150\n",
            "2351/2351 [==============================] - 3s 1ms/step - loss: 0.3239 - accuracy: 0.8889\n",
            "Epoch 12/150\n",
            "2351/2351 [==============================] - 3s 1ms/step - loss: 0.3262 - accuracy: 0.8873\n",
            "Epoch 13/150\n",
            "2351/2351 [==============================] - 3s 1ms/step - loss: 0.3227 - accuracy: 0.8883\n",
            "Epoch 14/150\n",
            "2351/2351 [==============================] - 3s 1ms/step - loss: 0.3182 - accuracy: 0.8889\n",
            "Epoch 15/150\n",
            "2351/2351 [==============================] - 3s 1ms/step - loss: 0.3163 - accuracy: 0.8894\n",
            "Epoch 16/150\n",
            "2351/2351 [==============================] - 3s 1ms/step - loss: 0.3163 - accuracy: 0.8894\n",
            "Epoch 17/150\n",
            "2351/2351 [==============================] - 3s 1ms/step - loss: 0.3152 - accuracy: 0.8893\n",
            "Epoch 18/150\n",
            "2351/2351 [==============================] - 3s 1ms/step - loss: 0.3161 - accuracy: 0.8896\n",
            "Epoch 19/150\n",
            "2351/2351 [==============================] - 3s 1ms/step - loss: 0.3140 - accuracy: 0.8890\n",
            "Epoch 20/150\n",
            "2351/2351 [==============================] - 3s 1ms/step - loss: 0.3129 - accuracy: 0.8897\n",
            "Epoch 21/150\n",
            "2351/2351 [==============================] - 3s 1ms/step - loss: 0.3148 - accuracy: 0.8908\n",
            "Epoch 22/150\n",
            "2351/2351 [==============================] - 3s 1ms/step - loss: 0.3193 - accuracy: 0.8883\n",
            "Epoch 23/150\n",
            "2351/2351 [==============================] - 3s 1ms/step - loss: 0.3158 - accuracy: 0.8892\n",
            "Epoch 24/150\n",
            "2351/2351 [==============================] - 3s 1ms/step - loss: 0.3134 - accuracy: 0.8907\n",
            "Epoch 25/150\n",
            "2351/2351 [==============================] - 3s 1ms/step - loss: 0.3148 - accuracy: 0.8906\n",
            "Epoch 26/150\n",
            "2351/2351 [==============================] - 3s 1ms/step - loss: 0.3110 - accuracy: 0.8900\n",
            "Epoch 27/150\n",
            "2351/2351 [==============================] - 3s 1ms/step - loss: 0.3108 - accuracy: 0.8899\n",
            "Epoch 28/150\n",
            "2351/2351 [==============================] - 3s 1ms/step - loss: 0.3097 - accuracy: 0.8897\n",
            "Epoch 29/150\n",
            "2351/2351 [==============================] - 3s 1ms/step - loss: 0.3094 - accuracy: 0.8901\n",
            "Epoch 30/150\n",
            "2351/2351 [==============================] - 3s 1ms/step - loss: 0.3090 - accuracy: 0.8910\n",
            "Epoch 31/150\n",
            "2351/2351 [==============================] - 3s 1ms/step - loss: 0.3085 - accuracy: 0.8894\n",
            "Epoch 32/150\n",
            "2351/2351 [==============================] - 3s 1ms/step - loss: 0.3074 - accuracy: 0.8908\n",
            "Epoch 33/150\n",
            "2351/2351 [==============================] - 3s 1ms/step - loss: 0.3081 - accuracy: 0.8907\n",
            "Epoch 34/150\n",
            "2351/2351 [==============================] - 3s 1ms/step - loss: 0.3095 - accuracy: 0.8895\n",
            "Epoch 35/150\n",
            "2351/2351 [==============================] - 3s 1ms/step - loss: 0.3098 - accuracy: 0.8899\n",
            "Epoch 36/150\n",
            "2351/2351 [==============================] - 3s 1ms/step - loss: 0.3087 - accuracy: 0.8897\n",
            "Epoch 37/150\n",
            "2351/2351 [==============================] - 3s 1ms/step - loss: 0.3079 - accuracy: 0.8892\n",
            "Epoch 38/150\n",
            "2351/2351 [==============================] - 3s 1ms/step - loss: 0.3062 - accuracy: 0.8911\n",
            "Epoch 39/150\n",
            "2351/2351 [==============================] - 3s 1ms/step - loss: 0.3069 - accuracy: 0.8906\n",
            "Epoch 40/150\n",
            "2351/2351 [==============================] - 3s 1ms/step - loss: 0.3063 - accuracy: 0.8910\n",
            "Epoch 41/150\n",
            "2351/2351 [==============================] - 3s 1ms/step - loss: 0.3058 - accuracy: 0.8906\n",
            "Epoch 42/150\n",
            "2351/2351 [==============================] - 3s 1ms/step - loss: 0.3059 - accuracy: 0.8921\n",
            "Epoch 43/150\n",
            "2351/2351 [==============================] - 3s 1ms/step - loss: 0.3067 - accuracy: 0.8912\n",
            "Epoch 44/150\n",
            "2351/2351 [==============================] - 3s 1ms/step - loss: 0.3050 - accuracy: 0.8916\n",
            "Epoch 45/150\n",
            "2351/2351 [==============================] - 3s 1ms/step - loss: 0.3051 - accuracy: 0.8910\n",
            "Epoch 46/150\n",
            "2351/2351 [==============================] - 3s 1ms/step - loss: 0.3061 - accuracy: 0.8908\n",
            "Epoch 47/150\n",
            "2351/2351 [==============================] - 3s 1ms/step - loss: 0.3074 - accuracy: 0.8903\n",
            "Epoch 48/150\n",
            "2351/2351 [==============================] - 3s 1ms/step - loss: 0.3047 - accuracy: 0.8916\n",
            "Epoch 49/150\n",
            "2351/2351 [==============================] - 3s 1ms/step - loss: 0.3072 - accuracy: 0.8906\n",
            "Epoch 50/150\n",
            "2351/2351 [==============================] - 3s 1ms/step - loss: 0.3043 - accuracy: 0.8909\n",
            "Epoch 51/150\n",
            "2351/2351 [==============================] - 3s 1ms/step - loss: 0.3055 - accuracy: 0.8911\n",
            "Epoch 52/150\n",
            "2351/2351 [==============================] - 3s 1ms/step - loss: 0.3063 - accuracy: 0.8908\n",
            "Epoch 53/150\n",
            "2351/2351 [==============================] - 3s 1ms/step - loss: 0.3055 - accuracy: 0.8910\n",
            "Epoch 54/150\n",
            "2351/2351 [==============================] - 3s 1ms/step - loss: 0.3048 - accuracy: 0.8917\n",
            "Epoch 55/150\n",
            "2351/2351 [==============================] - 3s 1ms/step - loss: 0.3030 - accuracy: 0.8910\n",
            "Epoch 56/150\n",
            "2351/2351 [==============================] - 3s 1ms/step - loss: 0.3037 - accuracy: 0.8922\n",
            "Epoch 57/150\n",
            "2351/2351 [==============================] - 3s 1ms/step - loss: 0.3044 - accuracy: 0.8913\n",
            "Epoch 58/150\n",
            "2351/2351 [==============================] - 3s 1ms/step - loss: 0.3037 - accuracy: 0.8916\n",
            "Epoch 59/150\n",
            "2351/2351 [==============================] - 3s 1ms/step - loss: 0.3032 - accuracy: 0.8919\n",
            "Epoch 60/150\n",
            "2351/2351 [==============================] - 3s 1ms/step - loss: 0.3027 - accuracy: 0.8914\n",
            "Epoch 61/150\n",
            "2351/2351 [==============================] - 3s 1ms/step - loss: 0.3024 - accuracy: 0.8921\n",
            "Epoch 62/150\n",
            "2351/2351 [==============================] - 3s 1ms/step - loss: 0.3033 - accuracy: 0.8911\n",
            "Epoch 63/150\n",
            "2351/2351 [==============================] - 3s 1ms/step - loss: 0.3021 - accuracy: 0.8911\n",
            "Epoch 64/150\n",
            "2351/2351 [==============================] - 3s 1ms/step - loss: 0.3019 - accuracy: 0.8909\n",
            "Epoch 65/150\n",
            "2351/2351 [==============================] - 3s 1ms/step - loss: 0.3022 - accuracy: 0.8915\n",
            "Epoch 66/150\n",
            "2351/2351 [==============================] - 3s 1ms/step - loss: 0.3012 - accuracy: 0.8913\n",
            "Epoch 67/150\n",
            "2351/2351 [==============================] - 3s 1ms/step - loss: 0.3023 - accuracy: 0.8910\n",
            "Epoch 68/150\n",
            "2351/2351 [==============================] - 3s 1ms/step - loss: 0.3025 - accuracy: 0.8917\n",
            "Epoch 69/150\n",
            "2351/2351 [==============================] - 3s 1ms/step - loss: 0.3018 - accuracy: 0.8918\n",
            "Epoch 70/150\n",
            "2351/2351 [==============================] - 3s 1ms/step - loss: 0.3016 - accuracy: 0.8921\n",
            "Epoch 71/150\n",
            "2351/2351 [==============================] - 3s 1ms/step - loss: 0.3004 - accuracy: 0.8923\n",
            "Epoch 72/150\n",
            "2351/2351 [==============================] - 3s 1ms/step - loss: 0.3013 - accuracy: 0.8920\n",
            "Epoch 73/150\n",
            "2351/2351 [==============================] - 3s 1ms/step - loss: 0.3004 - accuracy: 0.8921\n",
            "Epoch 74/150\n",
            "2351/2351 [==============================] - 3s 1ms/step - loss: 0.3021 - accuracy: 0.8920\n",
            "Epoch 75/150\n",
            "2351/2351 [==============================] - 3s 1ms/step - loss: 0.3000 - accuracy: 0.8930\n",
            "Epoch 76/150\n",
            "2351/2351 [==============================] - 3s 1ms/step - loss: 0.3011 - accuracy: 0.8922\n",
            "Epoch 77/150\n",
            "2351/2351 [==============================] - 3s 1ms/step - loss: 0.2993 - accuracy: 0.8924\n",
            "Epoch 78/150\n",
            "2351/2351 [==============================] - 3s 1ms/step - loss: 0.3007 - accuracy: 0.8915\n",
            "Epoch 79/150\n",
            "2351/2351 [==============================] - 3s 1ms/step - loss: 0.2991 - accuracy: 0.8920\n",
            "Epoch 80/150\n",
            "2351/2351 [==============================] - 3s 1ms/step - loss: 0.3000 - accuracy: 0.8920\n",
            "Epoch 81/150\n",
            "2351/2351 [==============================] - 3s 1ms/step - loss: 0.3005 - accuracy: 0.8911\n",
            "Epoch 82/150\n",
            "2351/2351 [==============================] - 3s 1ms/step - loss: 0.2995 - accuracy: 0.8924\n",
            "Epoch 83/150\n",
            "2351/2351 [==============================] - 3s 1ms/step - loss: 0.3005 - accuracy: 0.8915\n",
            "Epoch 84/150\n",
            "2351/2351 [==============================] - 3s 1ms/step - loss: 0.2999 - accuracy: 0.8917\n",
            "Epoch 85/150\n",
            "2351/2351 [==============================] - 3s 1ms/step - loss: 0.3011 - accuracy: 0.8911\n",
            "Epoch 86/150\n",
            "2351/2351 [==============================] - 4s 2ms/step - loss: 0.2997 - accuracy: 0.8924\n",
            "Epoch 87/150\n",
            "2351/2351 [==============================] - 3s 1ms/step - loss: 0.2987 - accuracy: 0.8922\n",
            "Epoch 88/150\n",
            "2351/2351 [==============================] - 3s 1ms/step - loss: 0.3006 - accuracy: 0.8920\n",
            "Epoch 89/150\n",
            "2351/2351 [==============================] - 3s 1ms/step - loss: 0.2993 - accuracy: 0.8924\n",
            "Epoch 90/150\n",
            "2351/2351 [==============================] - 3s 1ms/step - loss: 0.3003 - accuracy: 0.8920\n",
            "Epoch 91/150\n",
            "2351/2351 [==============================] - 3s 1ms/step - loss: 0.2993 - accuracy: 0.8923\n",
            "Epoch 92/150\n",
            "2351/2351 [==============================] - 3s 1ms/step - loss: 0.2992 - accuracy: 0.8918\n",
            "Epoch 93/150\n",
            "2351/2351 [==============================] - 3s 1ms/step - loss: 0.2997 - accuracy: 0.8917\n",
            "Epoch 94/150\n",
            "2351/2351 [==============================] - 3s 1ms/step - loss: 0.2992 - accuracy: 0.8929\n",
            "Epoch 95/150\n",
            "2351/2351 [==============================] - 3s 1ms/step - loss: 0.2988 - accuracy: 0.8913\n",
            "Epoch 96/150\n",
            "2351/2351 [==============================] - 3s 1ms/step - loss: 0.2984 - accuracy: 0.8922\n",
            "Epoch 97/150\n",
            "2351/2351 [==============================] - 3s 1ms/step - loss: 0.2980 - accuracy: 0.8920\n",
            "Epoch 98/150\n",
            "2351/2351 [==============================] - 3s 1ms/step - loss: 0.3021 - accuracy: 0.8916\n",
            "Epoch 99/150\n",
            "2351/2351 [==============================] - 3s 1ms/step - loss: 0.2978 - accuracy: 0.8924\n",
            "Epoch 100/150\n",
            "2351/2351 [==============================] - 3s 1ms/step - loss: 0.2984 - accuracy: 0.8919\n",
            "Epoch 101/150\n",
            "2351/2351 [==============================] - 3s 1ms/step - loss: 0.2997 - accuracy: 0.8920\n",
            "Epoch 102/150\n",
            "2351/2351 [==============================] - 3s 1ms/step - loss: 0.2978 - accuracy: 0.8926\n",
            "Epoch 103/150\n",
            "2351/2351 [==============================] - 4s 2ms/step - loss: 0.2988 - accuracy: 0.8920\n",
            "Epoch 104/150\n",
            "2351/2351 [==============================] - 4s 2ms/step - loss: 0.2991 - accuracy: 0.8920\n",
            "Epoch 105/150\n",
            "2351/2351 [==============================] - 4s 2ms/step - loss: 0.2985 - accuracy: 0.8926\n",
            "Epoch 106/150\n",
            "2351/2351 [==============================] - 4s 2ms/step - loss: 0.2982 - accuracy: 0.8910\n",
            "Epoch 107/150\n",
            "2351/2351 [==============================] - 4s 1ms/step - loss: 0.2972 - accuracy: 0.8925\n",
            "Epoch 108/150\n",
            "2351/2351 [==============================] - 3s 1ms/step - loss: 0.2976 - accuracy: 0.8934\n",
            "Epoch 109/150\n",
            "2351/2351 [==============================] - 3s 1ms/step - loss: 0.2979 - accuracy: 0.8926\n",
            "Epoch 110/150\n",
            "2351/2351 [==============================] - 3s 1ms/step - loss: 0.2988 - accuracy: 0.8919\n",
            "Epoch 111/150\n",
            "2351/2351 [==============================] - 3s 1ms/step - loss: 0.2978 - accuracy: 0.8923\n",
            "Epoch 112/150\n",
            "2351/2351 [==============================] - 3s 1ms/step - loss: 0.2980 - accuracy: 0.8923\n",
            "Epoch 113/150\n",
            "2351/2351 [==============================] - 4s 1ms/step - loss: 0.2973 - accuracy: 0.8922\n",
            "Epoch 114/150\n",
            "2351/2351 [==============================] - 3s 1ms/step - loss: 0.2966 - accuracy: 0.8931\n",
            "Epoch 115/150\n",
            "2351/2351 [==============================] - 3s 1ms/step - loss: 0.2975 - accuracy: 0.8932\n",
            "Epoch 116/150\n",
            "2351/2351 [==============================] - 3s 1ms/step - loss: 0.2995 - accuracy: 0.8910\n",
            "Epoch 117/150\n",
            "2351/2351 [==============================] - 3s 1ms/step - loss: 0.2988 - accuracy: 0.8916\n",
            "Epoch 118/150\n",
            "2351/2351 [==============================] - 3s 1ms/step - loss: 0.2963 - accuracy: 0.8937\n",
            "Epoch 119/150\n",
            "2351/2351 [==============================] - 4s 1ms/step - loss: 0.2974 - accuracy: 0.8928\n",
            "Epoch 120/150\n",
            "2351/2351 [==============================] - 3s 1ms/step - loss: 0.2972 - accuracy: 0.8917\n",
            "Epoch 121/150\n",
            "2351/2351 [==============================] - 3s 1ms/step - loss: 0.2970 - accuracy: 0.8933\n",
            "Epoch 122/150\n",
            "2351/2351 [==============================] - 3s 1ms/step - loss: 0.2972 - accuracy: 0.8918\n",
            "Epoch 123/150\n",
            "2351/2351 [==============================] - 3s 1ms/step - loss: 0.2978 - accuracy: 0.8927\n",
            "Epoch 124/150\n",
            "2351/2351 [==============================] - 3s 1ms/step - loss: 0.2980 - accuracy: 0.8917\n",
            "Epoch 125/150\n",
            "2351/2351 [==============================] - 3s 1ms/step - loss: 0.2962 - accuracy: 0.8935\n",
            "Epoch 126/150\n",
            "2351/2351 [==============================] - 3s 1ms/step - loss: 0.2975 - accuracy: 0.8923\n",
            "Epoch 127/150\n",
            "2351/2351 [==============================] - 4s 1ms/step - loss: 0.2977 - accuracy: 0.8926\n",
            "Epoch 128/150\n",
            "2351/2351 [==============================] - 3s 1ms/step - loss: 0.2963 - accuracy: 0.8924\n",
            "Epoch 129/150\n",
            "2351/2351 [==============================] - 4s 1ms/step - loss: 0.2976 - accuracy: 0.8921\n",
            "Epoch 130/150\n",
            "2351/2351 [==============================] - 3s 1ms/step - loss: 0.2952 - accuracy: 0.8923\n",
            "Epoch 131/150\n",
            "2351/2351 [==============================] - 4s 2ms/step - loss: 0.2961 - accuracy: 0.8932\n",
            "Epoch 132/150\n",
            "2351/2351 [==============================] - 3s 1ms/step - loss: 0.2979 - accuracy: 0.8928\n",
            "Epoch 133/150\n",
            "2351/2351 [==============================] - 4s 1ms/step - loss: 0.2962 - accuracy: 0.8920\n",
            "Epoch 134/150\n",
            "2351/2351 [==============================] - 3s 1ms/step - loss: 0.2968 - accuracy: 0.8923\n",
            "Epoch 135/150\n",
            "2351/2351 [==============================] - 3s 1ms/step - loss: 0.2962 - accuracy: 0.8923\n",
            "Epoch 136/150\n",
            "2351/2351 [==============================] - 3s 1ms/step - loss: 0.2950 - accuracy: 0.8930\n",
            "Epoch 137/150\n",
            "2351/2351 [==============================] - 3s 1ms/step - loss: 0.2958 - accuracy: 0.8925\n",
            "Epoch 138/150\n",
            "2351/2351 [==============================] - 4s 2ms/step - loss: 0.2983 - accuracy: 0.8918\n",
            "Epoch 139/150\n",
            "2351/2351 [==============================] - 3s 1ms/step - loss: 0.2955 - accuracy: 0.8924\n",
            "Epoch 140/150\n",
            "2351/2351 [==============================] - 3s 1ms/step - loss: 0.2997 - accuracy: 0.8922\n",
            "Epoch 141/150\n",
            "2351/2351 [==============================] - 3s 1ms/step - loss: 0.2964 - accuracy: 0.8926\n",
            "Epoch 142/150\n",
            "2351/2351 [==============================] - 4s 1ms/step - loss: 0.3007 - accuracy: 0.8919\n",
            "Epoch 143/150\n",
            "2351/2351 [==============================] - 3s 1ms/step - loss: 0.2966 - accuracy: 0.8923\n",
            "Epoch 144/150\n",
            "2351/2351 [==============================] - 4s 1ms/step - loss: 0.2976 - accuracy: 0.8927\n",
            "Epoch 145/150\n",
            "2351/2351 [==============================] - 4s 2ms/step - loss: 0.2968 - accuracy: 0.8926\n",
            "Epoch 146/150\n",
            "2351/2351 [==============================] - 3s 1ms/step - loss: 0.2977 - accuracy: 0.8923\n",
            "Epoch 147/150\n",
            "2351/2351 [==============================] - 4s 2ms/step - loss: 0.2975 - accuracy: 0.8918\n",
            "Epoch 148/150\n",
            "2351/2351 [==============================] - 4s 2ms/step - loss: 0.2976 - accuracy: 0.8919\n",
            "Epoch 149/150\n",
            "2351/2351 [==============================] - 3s 1ms/step - loss: 0.2953 - accuracy: 0.8919\n",
            "Epoch 150/150\n",
            "2351/2351 [==============================] - 4s 1ms/step - loss: 0.2957 - accuracy: 0.8926\n"
          ]
        },
        {
          "output_type": "execute_result",
          "data": {
            "text/plain": [
              "<keras.callbacks.History at 0x7fe35140a4d0>"
            ]
          },
          "metadata": {},
          "execution_count": 61
        }
      ]
    },
    {
      "cell_type": "code",
      "metadata": {
        "colab": {
          "base_uri": "https://localhost:8080/"
        },
        "id": "MWigJcDVccBc",
        "outputId": "bf9dc0a9-eecd-40fb-b427-34932b6ceda9"
      },
      "source": [
        "testing_y = model.predict(testing_encoded)"
      ],
      "execution_count": null,
      "outputs": [
        {
          "output_type": "stream",
          "name": "stdout",
          "text": [
            "WARNING:tensorflow:Model was constructed with shape (None, 23509, 50) for input KerasTensor(type_spec=TensorSpec(shape=(None, 23509, 50), dtype=tf.float32, name='dense_3_input'), name='dense_3_input', description=\"created by layer 'dense_3_input'\"), but it was called on an input with incompatible shape (None, 50).\n"
          ]
        }
      ]
    },
    {
      "cell_type": "code",
      "metadata": {
        "colab": {
          "base_uri": "https://localhost:8080/"
        },
        "id": "Y0n5wrbDcb-u",
        "outputId": "231f7afc-50e5-4694-e664-c30e1b7c2d7a"
      },
      "source": [
        "testing_y"
      ],
      "execution_count": null,
      "outputs": [
        {
          "output_type": "execute_result",
          "data": {
            "text/plain": [
              "array([[0.03107682],\n",
              "       [0.12334281],\n",
              "       [0.04079005],\n",
              "       ...,\n",
              "       [0.02464932],\n",
              "       [0.0735369 ],\n",
              "       [0.01899436]], dtype=float32)"
            ]
          },
          "metadata": {},
          "execution_count": 64
        }
      ]
    },
    {
      "cell_type": "code",
      "metadata": {
        "id": "xOF5j0tJcb3j"
      },
      "source": [
        "predicted = np.argmax(testing_y, axis = 1)"
      ],
      "execution_count": null,
      "outputs": []
    },
    {
      "cell_type": "code",
      "metadata": {
        "colab": {
          "base_uri": "https://localhost:8080/"
        },
        "id": "P6ZSPntfcb1D",
        "outputId": "eb56a431-73a4-4569-817a-cb45be3e368d"
      },
      "source": [
        "predicted"
      ],
      "execution_count": null,
      "outputs": [
        {
          "output_type": "execute_result",
          "data": {
            "text/plain": [
              "array([0, 0, 0, ..., 0, 0, 0])"
            ]
          },
          "metadata": {},
          "execution_count": 68
        }
      ]
    },
    {
      "cell_type": "code",
      "metadata": {
        "colab": {
          "base_uri": "https://localhost:8080/"
        },
        "id": "3jlpuJ62cbyc",
        "outputId": "72411187-3377-4462-9c4b-551307a44205"
      },
      "source": [
        "pd.Series(predicted)"
      ],
      "execution_count": null,
      "outputs": [
        {
          "output_type": "execute_result",
          "data": {
            "text/plain": [
              "0        0\n",
              "1        0\n",
              "2        0\n",
              "3        0\n",
              "4        0\n",
              "        ..\n",
              "15819    0\n",
              "15820    0\n",
              "15821    0\n",
              "15822    0\n",
              "15823    0\n",
              "Length: 15824, dtype: int64"
            ]
          },
          "metadata": {},
          "execution_count": 69
        }
      ]
    },
    {
      "cell_type": "code",
      "metadata": {
        "id": "hvIQcs4-cbvz"
      },
      "source": [
        "testing_idx['subscribed'] = pd.Series(predicted)"
      ],
      "execution_count": null,
      "outputs": []
    },
    {
      "cell_type": "code",
      "metadata": {
        "id": "pOD2ZsO6cbsF"
      },
      "source": [
        "testing_idx"
      ],
      "execution_count": null,
      "outputs": []
    },
    {
      "cell_type": "code",
      "metadata": {
        "id": "P_aZ6pLWcbpT"
      },
      "source": [
        "testing_idx.to_csv('predicted.csv', index=False)"
      ],
      "execution_count": null,
      "outputs": []
    },
    {
      "cell_type": "code",
      "metadata": {
        "id": "zXY0FuJth1Dj"
      },
      "source": [
        ""
      ],
      "execution_count": null,
      "outputs": []
    },
    {
      "cell_type": "code",
      "metadata": {
        "id": "6ijthfWAh1A2"
      },
      "source": [
        ""
      ],
      "execution_count": null,
      "outputs": []
    },
    {
      "cell_type": "code",
      "metadata": {
        "id": "u5tI07OTh0-p"
      },
      "source": [
        ""
      ],
      "execution_count": null,
      "outputs": []
    },
    {
      "cell_type": "code",
      "metadata": {
        "id": "SUbnQqzdh04-"
      },
      "source": [
        ""
      ],
      "execution_count": null,
      "outputs": []
    },
    {
      "cell_type": "code",
      "metadata": {
        "id": "i5yQ3e3nh02j"
      },
      "source": [
        ""
      ],
      "execution_count": null,
      "outputs": []
    },
    {
      "cell_type": "code",
      "metadata": {
        "colab": {
          "base_uri": "https://localhost:8080/"
        },
        "id": "brSRd0LyBotQ",
        "outputId": "37e3d403-d218-409e-d57e-49a78bcfa9e0"
      },
      "source": [
        "!gdown --id 1YcwuCLoI9qGfHwWNTPL3hfLlx6SEid5Q"
      ],
      "execution_count": null,
      "outputs": [
        {
          "output_type": "stream",
          "name": "stdout",
          "text": [
            "Downloading...\n",
            "From: https://drive.google.com/uc?id=1YcwuCLoI9qGfHwWNTPL3hfLlx6SEid5Q\n",
            "To: /content/bank_test.csv\n",
            "\r  0% 0.00/1.29M [00:00<?, ?B/s]\r100% 1.29M/1.29M [00:00<00:00, 83.2MB/s]\n"
          ]
        }
      ]
    },
    {
      "cell_type": "code",
      "metadata": {
        "id": "z_qSSKkZB3u7"
      },
      "source": [
        "testing = pd.read_csv('bank_test.csv')"
      ],
      "execution_count": null,
      "outputs": []
    },
    {
      "cell_type": "code",
      "metadata": {
        "id": "mjVfYhnMCQQt"
      },
      "source": [
        "testing"
      ],
      "execution_count": null,
      "outputs": []
    },
    {
      "cell_type": "code",
      "metadata": {
        "id": "plUDRgK3C71b"
      },
      "source": [
        "testing_X = testing.iloc[:, 1:]\n",
        "testing_idx = testing.iloc[:, :1]"
      ],
      "execution_count": null,
      "outputs": []
    },
    {
      "cell_type": "code",
      "metadata": {
        "colab": {
          "base_uri": "https://localhost:8080/",
          "height": 419
        },
        "id": "ZerYlCB4EWj4",
        "outputId": "467ec70c-7910-44b0-d7b2-4a25441fe713"
      },
      "source": [
        "testing_idx"
      ],
      "execution_count": null,
      "outputs": [
        {
          "output_type": "execute_result",
          "data": {
            "text/html": [
              "<div>\n",
              "<style scoped>\n",
              "    .dataframe tbody tr th:only-of-type {\n",
              "        vertical-align: middle;\n",
              "    }\n",
              "\n",
              "    .dataframe tbody tr th {\n",
              "        vertical-align: top;\n",
              "    }\n",
              "\n",
              "    .dataframe thead th {\n",
              "        text-align: right;\n",
              "    }\n",
              "</style>\n",
              "<table border=\"1\" class=\"dataframe\">\n",
              "  <thead>\n",
              "    <tr style=\"text-align: right;\">\n",
              "      <th></th>\n",
              "      <th>id</th>\n",
              "    </tr>\n",
              "  </thead>\n",
              "  <tbody>\n",
              "    <tr>\n",
              "      <th>0</th>\n",
              "      <td>0</td>\n",
              "    </tr>\n",
              "    <tr>\n",
              "      <th>1</th>\n",
              "      <td>1</td>\n",
              "    </tr>\n",
              "    <tr>\n",
              "      <th>2</th>\n",
              "      <td>2</td>\n",
              "    </tr>\n",
              "    <tr>\n",
              "      <th>3</th>\n",
              "      <td>3</td>\n",
              "    </tr>\n",
              "    <tr>\n",
              "      <th>4</th>\n",
              "      <td>4</td>\n",
              "    </tr>\n",
              "    <tr>\n",
              "      <th>...</th>\n",
              "      <td>...</td>\n",
              "    </tr>\n",
              "    <tr>\n",
              "      <th>15819</th>\n",
              "      <td>15819</td>\n",
              "    </tr>\n",
              "    <tr>\n",
              "      <th>15820</th>\n",
              "      <td>15820</td>\n",
              "    </tr>\n",
              "    <tr>\n",
              "      <th>15821</th>\n",
              "      <td>15821</td>\n",
              "    </tr>\n",
              "    <tr>\n",
              "      <th>15822</th>\n",
              "      <td>15822</td>\n",
              "    </tr>\n",
              "    <tr>\n",
              "      <th>15823</th>\n",
              "      <td>15823</td>\n",
              "    </tr>\n",
              "  </tbody>\n",
              "</table>\n",
              "<p>15824 rows × 1 columns</p>\n",
              "</div>"
            ],
            "text/plain": [
              "          id\n",
              "0          0\n",
              "1          1\n",
              "2          2\n",
              "3          3\n",
              "4          4\n",
              "...      ...\n",
              "15819  15819\n",
              "15820  15820\n",
              "15821  15821\n",
              "15822  15822\n",
              "15823  15823\n",
              "\n",
              "[15824 rows x 1 columns]"
            ]
          },
          "metadata": {},
          "execution_count": 50
        }
      ]
    },
    {
      "cell_type": "code",
      "metadata": {
        "id": "XSwufJB4B-EA"
      },
      "source": [
        "testing_encoded = np.array(ct.fit_transform(testing_X))"
      ],
      "execution_count": null,
      "outputs": []
    },
    {
      "cell_type": "code",
      "metadata": {
        "id": "tffjm5XAaCcw"
      },
      "source": [
        "testing_encoded"
      ],
      "execution_count": null,
      "outputs": []
    },
    {
      "cell_type": "code",
      "metadata": {
        "id": "6T8DFAsmAD-2"
      },
      "source": [
        "testing_y = model.predict(testing_encoded)"
      ],
      "execution_count": null,
      "outputs": []
    },
    {
      "cell_type": "code",
      "metadata": {
        "colab": {
          "base_uri": "https://localhost:8080/"
        },
        "id": "RrTZxhM5Ecyx",
        "outputId": "1e355289-5c00-4ab2-9534-99d62e0a7c1b"
      },
      "source": [
        "pd.Series(testing_y)"
      ],
      "execution_count": null,
      "outputs": [
        {
          "output_type": "execute_result",
          "data": {
            "text/plain": [
              "0        0\n",
              "1        0\n",
              "2        0\n",
              "3        0\n",
              "4        0\n",
              "        ..\n",
              "15819    0\n",
              "15820    0\n",
              "15821    0\n",
              "15822    0\n",
              "15823    0\n",
              "Length: 15824, dtype: int64"
            ]
          },
          "metadata": {},
          "execution_count": 144
        }
      ]
    },
    {
      "cell_type": "code",
      "metadata": {
        "id": "_jF0W6lsE_hu"
      },
      "source": [
        "testing_idx['subscribed'] = pd.Series(testing_y)"
      ],
      "execution_count": null,
      "outputs": []
    },
    {
      "cell_type": "code",
      "metadata": {
        "colab": {
          "base_uri": "https://localhost:8080/",
          "height": 419
        },
        "id": "NlZir9tcGMhK",
        "outputId": "b47ba82e-1977-48d0-8098-3619e2081a65"
      },
      "source": [
        "testing_idx"
      ],
      "execution_count": null,
      "outputs": [
        {
          "output_type": "execute_result",
          "data": {
            "text/html": [
              "<div>\n",
              "<style scoped>\n",
              "    .dataframe tbody tr th:only-of-type {\n",
              "        vertical-align: middle;\n",
              "    }\n",
              "\n",
              "    .dataframe tbody tr th {\n",
              "        vertical-align: top;\n",
              "    }\n",
              "\n",
              "    .dataframe thead th {\n",
              "        text-align: right;\n",
              "    }\n",
              "</style>\n",
              "<table border=\"1\" class=\"dataframe\">\n",
              "  <thead>\n",
              "    <tr style=\"text-align: right;\">\n",
              "      <th></th>\n",
              "      <th>id</th>\n",
              "      <th>subscribed</th>\n",
              "    </tr>\n",
              "  </thead>\n",
              "  <tbody>\n",
              "    <tr>\n",
              "      <th>0</th>\n",
              "      <td>0</td>\n",
              "      <td>0</td>\n",
              "    </tr>\n",
              "    <tr>\n",
              "      <th>1</th>\n",
              "      <td>1</td>\n",
              "      <td>0</td>\n",
              "    </tr>\n",
              "    <tr>\n",
              "      <th>2</th>\n",
              "      <td>2</td>\n",
              "      <td>0</td>\n",
              "    </tr>\n",
              "    <tr>\n",
              "      <th>3</th>\n",
              "      <td>3</td>\n",
              "      <td>0</td>\n",
              "    </tr>\n",
              "    <tr>\n",
              "      <th>4</th>\n",
              "      <td>4</td>\n",
              "      <td>0</td>\n",
              "    </tr>\n",
              "    <tr>\n",
              "      <th>...</th>\n",
              "      <td>...</td>\n",
              "      <td>...</td>\n",
              "    </tr>\n",
              "    <tr>\n",
              "      <th>15819</th>\n",
              "      <td>15819</td>\n",
              "      <td>0</td>\n",
              "    </tr>\n",
              "    <tr>\n",
              "      <th>15820</th>\n",
              "      <td>15820</td>\n",
              "      <td>0</td>\n",
              "    </tr>\n",
              "    <tr>\n",
              "      <th>15821</th>\n",
              "      <td>15821</td>\n",
              "      <td>0</td>\n",
              "    </tr>\n",
              "    <tr>\n",
              "      <th>15822</th>\n",
              "      <td>15822</td>\n",
              "      <td>0</td>\n",
              "    </tr>\n",
              "    <tr>\n",
              "      <th>15823</th>\n",
              "      <td>15823</td>\n",
              "      <td>0</td>\n",
              "    </tr>\n",
              "  </tbody>\n",
              "</table>\n",
              "<p>15824 rows × 2 columns</p>\n",
              "</div>"
            ],
            "text/plain": [
              "          id  subscribed\n",
              "0          0           0\n",
              "1          1           0\n",
              "2          2           0\n",
              "3          3           0\n",
              "4          4           0\n",
              "...      ...         ...\n",
              "15819  15819           0\n",
              "15820  15820           0\n",
              "15821  15821           0\n",
              "15822  15822           0\n",
              "15823  15823           0\n",
              "\n",
              "[15824 rows x 2 columns]"
            ]
          },
          "metadata": {},
          "execution_count": 146
        }
      ]
    },
    {
      "cell_type": "code",
      "metadata": {
        "id": "x88opV4aGWi_"
      },
      "source": [
        "testing_idx.to_csv('predicted.csv', index=False)"
      ],
      "execution_count": null,
      "outputs": []
    }
  ]
}